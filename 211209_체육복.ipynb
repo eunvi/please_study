{
 "cells": [
  {
   "cell_type": "markdown",
   "id": "12b49a65",
   "metadata": {},
   "source": [
    "- 나의 풀이(런타임 에러&오답 45.0 / 100.0)"
   ]
  },
  {
   "cell_type": "code",
   "execution_count": 100,
   "id": "12585189",
   "metadata": {},
   "outputs": [],
   "source": [
    "def solution(n, lost, reserve):\n",
    "    \n",
    "    clothes = list(set(range(1,n+1)) - set(lost))\n",
    "\n",
    "    for i in lost:\n",
    "        for j in reserve:\n",
    "            if i == j :\n",
    "                colthes.append(i)\n",
    "                reserve.remove(j)\n",
    "            elif i == j-1:\n",
    "                clothes.append(i)\n",
    "                reserve.remove(j)\n",
    "            elif i == j+1:\n",
    "                clothes.append(i)\n",
    "                reserve.remove(j)\n",
    "                \n",
    "    return len(clothes)"
   ]
  },
  {
   "cell_type": "markdown",
   "id": "9eb118de",
   "metadata": {},
   "source": [
    "- 나의 풀이(오답 90.0 / 100.0)"
   ]
  },
  {
   "cell_type": "code",
   "execution_count": 277,
   "id": "b0b4846e",
   "metadata": {},
   "outputs": [],
   "source": [
    "def solution(n, lost, reserve):\n",
    "    \n",
    "    clothes = list(set(range(1,n+1)) - set(lost)) \n",
    "    \n",
    "    for i in lost :\n",
    "        if i in reserve :\n",
    "            clothes.append(i)\n",
    "            reserve.remove(i)\n",
    "            lost[lost.index(i)] = -1\n",
    "            \n",
    "            \n",
    "    for i in lost :\n",
    "        if i-1 in reserve :\n",
    "            clothes.append(i)\n",
    "            reserve.remove(i-1)\n",
    "            lost[lost.index(i)] = -1\n",
    "            \n",
    "        elif i+1 in reserve :\n",
    "            clothes.append(i)\n",
    "            reserve.remove(i+1)\n",
    "            lost[lost.index(i)] = -1\n",
    "\n",
    "    return len(clothes)"
   ]
  },
  {
   "cell_type": "markdown",
   "id": "0e4ae120",
   "metadata": {},
   "source": [
    "- 나의 풀이 (최종 통과)\n",
    "    - 새로 추가된 테스트케이스 13,14 해결\n",
    "         - 체육복을 잃어버린 학생과 여벌이 있는 학생 리스트를 오름차순으로 정리한다.\n",
    "         - 앞뒤 학생에게 빌려주는 것이기 때문에 정렬 필요!\n",
    "    - for문을 실행할 때 remove()함수로 리스트 원소를 제거하면 오류 발생\n",
    "         - 인덱스 순서대로 실행하기 때문에 제거하면 다음 원소로 for문을 실행하지 않는다.\n",
    "         - 원소를 제거하지 않고 문제 풀이에 영향을 끼치지 않는 원소 값으로 대체하였다."
   ]
  },
  {
   "cell_type": "code",
   "execution_count": 324,
   "id": "3852138d",
   "metadata": {},
   "outputs": [],
   "source": [
    "def solution(n, lost, reserve):\n",
    "    \n",
    "    lost.sort()\n",
    "    reserve.sort()\n",
    "    \n",
    "    clothes = list(set(range(1,n+1)) - set(lost))\n",
    "    \n",
    "    for i in lost :\n",
    "        if i in reserve :\n",
    "            clothes.append(i)\n",
    "            lost[lost.index(i)] = -1\n",
    "            reserve[reserve.index(i)] = -10\n",
    "            \n",
    "    for i in lost :        \n",
    "        if i-1 in reserve :\n",
    "            clothes.append(i)\n",
    "            lost[lost.index(i)] = -1\n",
    "            reserve[reserve.index(i-1)] = -10\n",
    "            \n",
    "        elif i+1 in reserve :\n",
    "            clothes.append(i)\n",
    "            lost[lost.index(i)] = -1\n",
    "            reserve[reserve.index(i+1)] = -10\n",
    "\n",
    "    return len(clothes)"
   ]
  },
  {
   "cell_type": "code",
   "execution_count": 325,
   "id": "83a67980",
   "metadata": {},
   "outputs": [
    {
     "data": {
      "text/plain": [
       "5"
      ]
     },
     "execution_count": 325,
     "metadata": {},
     "output_type": "execute_result"
    }
   ],
   "source": [
    "solution(5, [2, 4], [1, 3, 5]) # 입출력 예 #1"
   ]
  },
  {
   "cell_type": "code",
   "execution_count": 326,
   "id": "08e2663e",
   "metadata": {},
   "outputs": [
    {
     "data": {
      "text/plain": [
       "4"
      ]
     },
     "execution_count": 326,
     "metadata": {},
     "output_type": "execute_result"
    }
   ],
   "source": [
    "solution(5, [2, 4], [3]) # 입출력 예 #2"
   ]
  },
  {
   "cell_type": "code",
   "execution_count": 327,
   "id": "6cb65897",
   "metadata": {},
   "outputs": [
    {
     "data": {
      "text/plain": [
       "2"
      ]
     },
     "execution_count": 327,
     "metadata": {},
     "output_type": "execute_result"
    }
   ],
   "source": [
    "solution(3, [3], [1]) # 입출력 예 #3"
   ]
  },
  {
   "cell_type": "markdown",
   "id": "17e71463",
   "metadata": {},
   "source": [
    "- 다른 사람의 풀이 #1"
   ]
  },
  {
   "cell_type": "code",
   "execution_count": null,
   "id": "ba85cd7e",
   "metadata": {},
   "outputs": [],
   "source": [
    "def solution(n, lost, reserve):\n",
    "    _reserve = [r for r in reserve if r not in lost] # 빌려줄 수 있는 학생\n",
    "    _lost = [l for l in lost if l not in reserve] # 빌려야하는 학생\n",
    "    for r in _reserve:\n",
    "        f = r - 1\n",
    "        b = r + 1\n",
    "        if f in _lost:\n",
    "            _lost.remove(f)\n",
    "        elif b in _lost:\n",
    "            _lost.remove(b)\n",
    "    return n - len(_lost)"
   ]
  },
  {
   "cell_type": "markdown",
   "id": "bd2c14db",
   "metadata": {},
   "source": [
    "- 다른 사람의 풀이 #2"
   ]
  },
  {
   "cell_type": "code",
   "execution_count": null,
   "id": "828e384a",
   "metadata": {},
   "outputs": [],
   "source": [
    "def solution(n, lost, reserve):\n",
    "    answer = 0\n",
    "    for i in range(1, n+1):\n",
    "        if i not in lost: #안 잃어버린 학생\n",
    "            answer += 1\n",
    "        else:\n",
    "            if i in reserve: #잃어버렸지만 여분도 있는 학생\n",
    "                answer += 1\n",
    "                reserve.remove(i)\n",
    "                lost.remove(i)\n",
    "\n",
    "    for i in lost: #잃어버리고 여분도 없어서 빌려야 하는 학생\n",
    "        if i-1 in reserve:\n",
    "            answer += 1\n",
    "            reserve.remove(i-1)\n",
    "\n",
    "        elif i+1 in reserve:\n",
    "            answer +=1\n",
    "            reserve.remove(i+1)\n",
    "\n",
    "    return answer"
   ]
  }
 ],
 "metadata": {
  "kernelspec": {
   "display_name": "Python 3 (ipykernel)",
   "language": "python",
   "name": "python3"
  },
  "language_info": {
   "codemirror_mode": {
    "name": "ipython",
    "version": 3
   },
   "file_extension": ".py",
   "mimetype": "text/x-python",
   "name": "python",
   "nbconvert_exporter": "python",
   "pygments_lexer": "ipython3",
   "version": "3.8.12"
  }
 },
 "nbformat": 4,
 "nbformat_minor": 5
}
