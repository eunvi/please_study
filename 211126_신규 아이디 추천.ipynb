{
 "cells": [
  {
   "cell_type": "code",
   "execution_count": 325,
   "id": "da85b4b7",
   "metadata": {},
   "outputs": [],
   "source": [
    "def solution(new_id):\n",
    "    \n",
    "    # 1단계) 모든 대문자를 대응되는 소문자로 치환\n",
    "    new_id = new_id.lower()\n",
    "    \n",
    "    # 2단계) 알파벳 소문자, 숫자, 빼기(-), 밑줄(_), 마침표(.)를 제외한 모든 문자를 제거\n",
    "    str_ = 'abcdefghijklmnopqrstuvwxyz0123456789-_.'\n",
    "    new_id = ''.join(c for c in new_id if c in str_)\n",
    "    \n",
    "    # 3단계) 마침표(.)가 2번 이상 연속된 부분을 하나의 마침표(.)로 치환\n",
    "    while new_id.count('..') >= 1:\n",
    "        new_id = new_id.replace('..','.')\n",
    "        \n",
    "    # 4단계 ) 마침표(.)가 처음이나 끝에 위치한다면 제거\n",
    "    new_id = new_id.strip('.')\n",
    "    \n",
    "    # 5단계 ) 빈 문자열이라면, new_id에 \"a\"를 대입\n",
    "    if len(new_id) == 0:\n",
    "        new_id = 'a'\n",
    "        \n",
    "    # 6단계 ) 길이가 16자 이상이면, new_id의 첫 15개 문자를 제외한 나머지 문자들을 모두 제거\n",
    "        # 만약 제거 후 마침표(.)가 new_id의 끝에 위치한다면 끝에 위치한 마침표(.) 문자를 제거\n",
    "    elif len(new_id)>= 16:\n",
    "        new_id = new_id[:15]\n",
    "        if new_id[14]== '.':\n",
    "            new_id = new_id.rstrip('.')\n",
    "            \n",
    "    # 7단계 ) 길이가 2자 이하라면, new_id의 마지막 문자를 new_id의 길이가 3이 될 때까지 반복해서 끝에 붙이기\n",
    "    if len(new_id) <= 2:\n",
    "        while len(new_id) < 3:\n",
    "            new_id = new_id + new_id[-1]\n",
    "            \n",
    "    answer = new_id\n",
    "    \n",
    "    return answer"
   ]
  },
  {
   "cell_type": "code",
   "execution_count": 326,
   "id": "5ddfea45",
   "metadata": {},
   "outputs": [
    {
     "data": {
      "text/plain": [
       "'bat.y.abcdefghi'"
      ]
     },
     "execution_count": 326,
     "metadata": {},
     "output_type": "execute_result"
    }
   ],
   "source": [
    "solution(\"...!@BaT#*..y.abcdefghijklm\") # 입출력 예 #1"
   ]
  },
  {
   "cell_type": "code",
   "execution_count": 327,
   "id": "dac0823a",
   "metadata": {},
   "outputs": [
    {
     "data": {
      "text/plain": [
       "'z--'"
      ]
     },
     "execution_count": 327,
     "metadata": {},
     "output_type": "execute_result"
    }
   ],
   "source": [
    "solution(\"z-+.^.\") # 입출력 예 #2"
   ]
  },
  {
   "cell_type": "code",
   "execution_count": 328,
   "id": "135a5a82",
   "metadata": {},
   "outputs": [
    {
     "data": {
      "text/plain": [
       "'aaa'"
      ]
     },
     "execution_count": 328,
     "metadata": {},
     "output_type": "execute_result"
    }
   ],
   "source": [
    "solution(\"=.=\") # 입출력 예 #3"
   ]
  },
  {
   "cell_type": "code",
   "execution_count": 329,
   "id": "b46d5e22",
   "metadata": {},
   "outputs": [
    {
     "data": {
      "text/plain": [
       "'123_.def'"
      ]
     },
     "execution_count": 329,
     "metadata": {},
     "output_type": "execute_result"
    }
   ],
   "source": [
    "solution(\"123_.def\") # 입출력 예 #4"
   ]
  },
  {
   "cell_type": "code",
   "execution_count": 330,
   "id": "0313f041",
   "metadata": {},
   "outputs": [
    {
     "data": {
      "text/plain": [
       "'abcdefghijklmn'"
      ]
     },
     "execution_count": 330,
     "metadata": {},
     "output_type": "execute_result"
    }
   ],
   "source": [
    "solution(\"abcdefghijklmn.p\") # 입출력 예 #5"
   ]
  },
  {
   "cell_type": "code",
   "execution_count": null,
   "id": "59c702c1",
   "metadata": {},
   "outputs": [],
   "source": []
  },
  {
   "cell_type": "markdown",
   "id": "a21d99cf",
   "metadata": {},
   "source": [
    "- 다른 사람의 풀이 #1"
   ]
  },
  {
   "cell_type": "code",
   "execution_count": 320,
   "id": "85cfc7c9",
   "metadata": {},
   "outputs": [],
   "source": [
    "import re # 정규 표현식을 지원하는 re 모듈\n",
    "\n",
    "def solution(new_id):\n",
    "    st = new_id\n",
    "    st = st.lower()\n",
    "    # re.sub('찾을패턴','찾은 패턴을 변경할 내용','원본')\n",
    "    st = re.sub('[^a-z0-9\\-_.]', '', st) # ^ : 맨 앞에 사용될 경우, 해당 문자 패턴이 아닌 것과 매칭\n",
    "    st = re.sub('\\.+', '.', st) # 마침표(.)가 한번 이상 반복된 부분을 '.'로 교체\n",
    "    st = re.sub('^[.]|[.]$', '', st) # '.'으로 시작하거나 '.'으로 끝나는 부분을 공백으로 교체\n",
    "    st = 'a' if len(st) == 0 else st[:15]\n",
    "    st = re.sub('^[.]|[.]$', '', st)\n",
    "    st = st if len(st) > 2 else st + \"\".join([st[-1] for i in range(3-len(st))])\n",
    "    return st"
   ]
  },
  {
   "cell_type": "markdown",
   "id": "267bbe54",
   "metadata": {},
   "source": [
    "- 다른 사람의 풀이 #2"
   ]
  },
  {
   "cell_type": "code",
   "execution_count": 321,
   "id": "ac105ace",
   "metadata": {},
   "outputs": [],
   "source": [
    "def solution(new_id):\n",
    "    answer = ''\n",
    "    # 1\n",
    "    new_id = new_id.lower()\n",
    "    # 2\n",
    "    for c in new_id:\n",
    "        # isalpha : 알파벳인지 확인하기\n",
    "        # isdigit : 숫자인지 확인하기\n",
    "        # 문자열 구성 하나하나(c)가 조건을 만족하는지 확인하고 출력\n",
    "        if c.isalpha() or c.isdigit() or c in ['-', '_', '.']:\n",
    "            answer += c\n",
    "    # 3\n",
    "    while '..' in answer:\n",
    "        answer = answer.replace('..', '.')\n",
    "    # 4\n",
    "    if answer[0] == '.':\n",
    "        answer = answer[1:] if len(answer) > 1 else '.'\n",
    "    if answer[-1] == '.':\n",
    "        answer = answer[:-1]\n",
    "    # 5\n",
    "    if answer == '':\n",
    "        answer = 'a'\n",
    "    # 6\n",
    "    if len(answer) > 15:\n",
    "        answer = answer[:15]\n",
    "        if answer[-1] == '.':\n",
    "            answer = answer[:-1]\n",
    "    # 7\n",
    "    while len(answer) < 3:\n",
    "        answer += answer[-1]\n",
    "    return answer"
   ]
  },
  {
   "cell_type": "markdown",
   "id": "45772941",
   "metadata": {},
   "source": [
    "- 다른 사람의 풀이 #3"
   ]
  },
  {
   "cell_type": "code",
   "execution_count": 335,
   "id": "226cc335",
   "metadata": {},
   "outputs": [],
   "source": [
    "from re import sub\n",
    "\n",
    "def solution(new_id):\n",
    "    new_id = new_id.lower()\n",
    "    new_id = sub(\"[^a-z0-9-_.]\", \"\", new_id)\n",
    "    new_id = sub(\"\\.+\", \".\", new_id)\n",
    "    new_id = sub(\"(^\\.|\\.$)\", \"\", new_id)\n",
    "    new_id = new_id if new_id else \"a\" # new_id가 없으면 a를 대입\n",
    "    new_id = sub(\"\\.$\", \"\", new_id[:15])\n",
    "    new_id = new_id if len(new_id) > 3 else new_id + new_id[-1] * (3 - len(new_id))\n",
    "    return new_id"
   ]
  },
  {
   "cell_type": "code",
   "execution_count": null,
   "id": "8c4f74d2",
   "metadata": {},
   "outputs": [],
   "source": []
  }
 ],
 "metadata": {
  "kernelspec": {
   "display_name": "Python 3 (ipykernel)",
   "language": "python",
   "name": "python3"
  },
  "language_info": {
   "codemirror_mode": {
    "name": "ipython",
    "version": 3
   },
   "file_extension": ".py",
   "mimetype": "text/x-python",
   "name": "python",
   "nbconvert_exporter": "python",
   "pygments_lexer": "ipython3",
   "version": "3.8.12"
  }
 },
 "nbformat": 4,
 "nbformat_minor": 5
}
