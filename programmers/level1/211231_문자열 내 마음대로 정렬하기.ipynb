{
 "cells": [
  {
   "cell_type": "markdown",
   "id": "284bf3f5",
   "metadata": {},
   "source": [
    "- 나의 풀이"
   ]
  },
  {
   "cell_type": "code",
   "execution_count": 23,
   "id": "3324151e",
   "metadata": {},
   "outputs": [],
   "source": [
    "def solution(strings, n):\n",
    "    answer = {}\n",
    "    for i in sorted(strings):\n",
    "        answer[i] = i[n]\n",
    "    return sorted(answer, key=answer.get)"
   ]
  },
  {
   "cell_type": "code",
   "execution_count": 50,
   "id": "54ffc821",
   "metadata": {},
   "outputs": [
    {
     "data": {
      "text/plain": [
       "['car', 'bed', 'sun']"
      ]
     },
     "execution_count": 50,
     "metadata": {},
     "output_type": "execute_result"
    }
   ],
   "source": [
    "solution([\"sun\", \"bed\", \"car\"],1)"
   ]
  },
  {
   "cell_type": "code",
   "execution_count": 51,
   "id": "af7b4015",
   "metadata": {},
   "outputs": [
    {
     "data": {
      "text/plain": [
       "['abcd', 'abce', 'cdx']"
      ]
     },
     "execution_count": 51,
     "metadata": {},
     "output_type": "execute_result"
    }
   ],
   "source": [
    "solution([\"abce\", \"abcd\", \"cdx\"],2)"
   ]
  },
  {
   "cell_type": "code",
   "execution_count": null,
   "id": "768385e0",
   "metadata": {},
   "outputs": [],
   "source": []
  },
  {
   "cell_type": "markdown",
   "id": "c8987727",
   "metadata": {},
   "source": [
    "- 다른 사람의 풀이 #1"
   ]
  },
  {
   "cell_type": "code",
   "execution_count": 37,
   "id": "7d83a703",
   "metadata": {},
   "outputs": [],
   "source": [
    "def solution(strings, n):\n",
    "    return sorted(sorted(strings), key=lambda x: x[n]) # key값 기준 정렬(오른차순)"
   ]
  },
  {
   "cell_type": "markdown",
   "id": "9a31492e",
   "metadata": {},
   "source": [
    "- 다른 사람의 풀이 #2"
   ]
  },
  {
   "cell_type": "code",
   "execution_count": 49,
   "id": "2fcf40f4",
   "metadata": {},
   "outputs": [],
   "source": [
    "from operator import itemgetter, attrgetter, methodcaller\n",
    "\n",
    "def solution(strings, n):\n",
    "    return sorted(sorted(strings), key=itemgetter(n)) # key=itemgetter(n) : 정렬의 키 값을 n번째 인덱스 기준으로!"
   ]
  },
  {
   "cell_type": "code",
   "execution_count": null,
   "id": "3b9b8ae3",
   "metadata": {},
   "outputs": [],
   "source": []
  }
 ],
 "metadata": {
  "kernelspec": {
   "display_name": "Python 3 (ipykernel)",
   "language": "python",
   "name": "python3"
  },
  "language_info": {
   "codemirror_mode": {
    "name": "ipython",
    "version": 3
   },
   "file_extension": ".py",
   "mimetype": "text/x-python",
   "name": "python",
   "nbconvert_exporter": "python",
   "pygments_lexer": "ipython3",
   "version": "3.8.12"
  }
 },
 "nbformat": 4,
 "nbformat_minor": 5
}
