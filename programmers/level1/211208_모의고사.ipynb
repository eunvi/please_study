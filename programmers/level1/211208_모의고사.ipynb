{
 "cells": [
  {
   "cell_type": "markdown",
   "id": "946cbd7d",
   "metadata": {},
   "source": [
    "- 나의 풀이 (28.6 / 100.0)"
   ]
  },
  {
   "cell_type": "code",
   "execution_count": 1,
   "id": "c3f3cf74",
   "metadata": {},
   "outputs": [],
   "source": [
    "def solution(answers):\n",
    "    \n",
    "    total_score = [0]\n",
    "    \n",
    "    player1 = [1,2,3,4,5]\n",
    "    player2 = [2,1,2,3,2,4,2,5]\n",
    "    player3 = [3,3,1,1,2,2,4,4,5,5]\n",
    "    players = [player1,player2,player3]\n",
    "    \n",
    "    ans_num = len(player1)*len(player2)*len(player3)\n",
    "    \n",
    "    real_ans = ans_num * answers\n",
    "    \n",
    "    for i in players:\n",
    "        player_ans = len(real_ans) // (len(i)) * i\n",
    "        total_score.append(len(list(filter(lambda x : player_ans[x] == real_ans[x] , range(len(real_ans))))))\n",
    "    \n",
    "    res_list = list(filter(lambda x : total_score[x] == max(total_score), range(len(total_score))))\n",
    "    \n",
    "    return res_list"
   ]
  },
  {
   "cell_type": "markdown",
   "id": "5240a003",
   "metadata": {},
   "source": [
    "- 나의 풀이(최종 통과)\n",
    "    - 주어진 answers 만 답안으로 고려해야했다."
   ]
  },
  {
   "cell_type": "code",
   "execution_count": 2,
   "id": "a4a57e89",
   "metadata": {},
   "outputs": [],
   "source": [
    "def solution(answers):\n",
    "    \n",
    "    player1 = [1,2,3,4,5]\n",
    "    player2 = [2,1,2,3,2,4,2,5]\n",
    "    player3 = [3,3,1,1,2,2,4,4,5,5]\n",
    "    players = [player1,player2,player3]\n",
    "    \n",
    "    total_score = [0]\n",
    "    \n",
    "    for i in players:\n",
    "        player_ans = 10000 // (len(i)) * i\n",
    "        player_ans = player_ans[:len(answers)]\n",
    "        total_score.append(len(list(filter(lambda x : player_ans[x] == answers[x] , range(len(player_ans))))))\n",
    "\n",
    "    res_list = list(filter(lambda x : total_score[x] == max(total_score), range(len(total_score))))\n",
    "    \n",
    "    return res_list"
   ]
  },
  {
   "cell_type": "code",
   "execution_count": 12,
   "id": "b62ea56e",
   "metadata": {
    "scrolled": true
   },
   "outputs": [
    {
     "data": {
      "text/plain": [
       "[1]"
      ]
     },
     "execution_count": 12,
     "metadata": {},
     "output_type": "execute_result"
    }
   ],
   "source": [
    "solution([1,2,3,4,5]) # 입출력 예 #1"
   ]
  },
  {
   "cell_type": "code",
   "execution_count": 13,
   "id": "3fe8f4d0",
   "metadata": {},
   "outputs": [
    {
     "data": {
      "text/plain": [
       "[1, 2, 3]"
      ]
     },
     "execution_count": 13,
     "metadata": {},
     "output_type": "execute_result"
    }
   ],
   "source": [
    "solution([1,3,2,4,2]) # 입출력 예 #2"
   ]
  },
  {
   "cell_type": "markdown",
   "id": "3b5cf440",
   "metadata": {},
   "source": [
    "- 다른 사람의 풀이 #1"
   ]
  },
  {
   "cell_type": "code",
   "execution_count": 5,
   "id": "5b00c1c8",
   "metadata": {},
   "outputs": [],
   "source": [
    "def solution(answers):\n",
    "    pattern1 = [1,2,3,4,5]\n",
    "    pattern2 = [2,1,2,3,2,4,2,5]\n",
    "    pattern3 = [3,3,1,1,2,2,4,4,5,5]\n",
    "    score = [0, 0, 0]\n",
    "    result = []\n",
    "\n",
    "    for idx, answer in enumerate(answers): # 답안의 인덱스와 해당하는 원소를 idx, answer로 받고\n",
    "        if answer == pattern1[idx%len(pattern1)]: # 나눈 값의 나머지를 활용하여 answer와 pattern을 비교!\n",
    "            score[0] += 1\n",
    "        if answer == pattern2[idx%len(pattern2)]:\n",
    "            score[1] += 1\n",
    "        if answer == pattern3[idx%len(pattern3)]:\n",
    "            score[2] += 1\n",
    "\n",
    "    for idx, s in enumerate(score):\n",
    "        if s == max(score):\n",
    "            result.append(idx+1)\n",
    "\n",
    "    return result"
   ]
  },
  {
   "cell_type": "markdown",
   "id": "b89bb544",
   "metadata": {},
   "source": [
    "- 다른 사람의 풀이 #2"
   ]
  },
  {
   "cell_type": "code",
   "execution_count": 8,
   "id": "69716e3b",
   "metadata": {},
   "outputs": [],
   "source": [
    "def solution(answers):\n",
    "    p = [[1, 2, 3, 4, 5],\n",
    "         [2, 1, 2, 3, 2, 4, 2, 5],\n",
    "         [3, 3, 1, 1, 2, 2, 4, 4, 5, 5]]\n",
    "    s = [0] * len(p)\n",
    "\n",
    "    for q, a in enumerate(answers):\n",
    "        for i, v in enumerate(p):\n",
    "            if a == v[q % len(v)]:\n",
    "                s[i] += 1\n",
    "    return [i + 1 for i, v in enumerate(s) if v == max(s)]"
   ]
  },
  {
   "cell_type": "markdown",
   "id": "f7bd91e5",
   "metadata": {},
   "source": [
    "- 다른 사람의 풀이 #3"
   ]
  },
  {
   "cell_type": "code",
   "execution_count": 11,
   "id": "defa811d",
   "metadata": {},
   "outputs": [],
   "source": [
    "from itertools import cycle # itertools.cycle(iterable) 함수는 iterable을 순서대로 무한히 반복시키는 이터레이터를 생성하는 함수\n",
    "\n",
    "def solution(answers):\n",
    "    giveups = [\n",
    "        cycle([1,2,3,4,5]),\n",
    "        cycle([2,1,2,3,2,4,2,5]),\n",
    "        cycle([3,3,1,1,2,2,4,4,5,5]),\n",
    "    ]\n",
    "    scores = [0, 0, 0]\n",
    "    for num in answers:\n",
    "        for i in range(3):\n",
    "            if next(giveups[i]) == num: # next : 반복 가능 객체의 다음 요소 반환\n",
    "                scores[i] += 1\n",
    "    highest = max(scores)\n",
    "\n",
    "    return [i + 1 for i, v in enumerate(scores) if v == highest]"
   ]
  },
  {
   "cell_type": "code",
   "execution_count": null,
   "id": "47198a46",
   "metadata": {},
   "outputs": [],
   "source": []
  }
 ],
 "metadata": {
  "kernelspec": {
   "display_name": "Python 3 (ipykernel)",
   "language": "python",
   "name": "python3"
  },
  "language_info": {
   "codemirror_mode": {
    "name": "ipython",
    "version": 3
   },
   "file_extension": ".py",
   "mimetype": "text/x-python",
   "name": "python",
   "nbconvert_exporter": "python",
   "pygments_lexer": "ipython3",
   "version": "3.8.12"
  }
 },
 "nbformat": 4,
 "nbformat_minor": 5
}
