{
 "cells": [
  {
   "cell_type": "markdown",
   "id": "d270d486",
   "metadata": {},
   "source": [
    "- 나의 풀이"
   ]
  },
  {
   "cell_type": "code",
   "execution_count": 6,
   "id": "825d9ced",
   "metadata": {},
   "outputs": [],
   "source": [
    "def solution(n, arr1, arr2):\n",
    "    arr1_list = [] # arr1 리스트의 원소를 이진수로 변환한 리스트\n",
    "    arr2_list = [] # arr2 리스트의 원소를 이진수로 변환한 리스트\n",
    "    m = n # n 값을 기억하기 위해 m에 지정\n",
    "    \n",
    "    for i in arr1:\n",
    "        n = m\n",
    "        list_ = []\n",
    "        while n > 0 :\n",
    "            if i-2**(n-1)>=0:\n",
    "                i -= 2**(n-1)\n",
    "                n -= 1\n",
    "                list_.append(1)\n",
    "            else:\n",
    "                list_.append(0)\n",
    "                n -= 1\n",
    "        arr1_list.append(list_)\n",
    "    \n",
    "    for i in arr2:\n",
    "        n = m\n",
    "        list_ = []\n",
    "        while n > 0 :\n",
    "            if i-2**(n-1)>=0:\n",
    "                i -= 2**(n-1)\n",
    "                n -= 1\n",
    "                list_.append(1)\n",
    "            else:\n",
    "                list_.append(0)\n",
    "                n -= 1\n",
    "        arr2_list.append(list_)\n",
    "        \n",
    "    n = m\n",
    "    answer = []\n",
    "    \n",
    "    for i in range(n):\n",
    "        a = ''\n",
    "        for j in range(n):\n",
    "            if arr1_list[i][j] == 0 and arr2_list[i][j] == 0:\n",
    "                a += ' '\n",
    "            else:\n",
    "                a += \"#\"\n",
    "        answer.append(a)\n",
    "        \n",
    "    return answer"
   ]
  },
  {
   "cell_type": "code",
   "execution_count": 17,
   "id": "539c58b2",
   "metadata": {},
   "outputs": [
    {
     "data": {
      "text/plain": [
       "['#####', '# # #', '### #', '#  ##', '#####']"
      ]
     },
     "execution_count": 17,
     "metadata": {},
     "output_type": "execute_result"
    }
   ],
   "source": [
    "solution(5,[9, 20, 28, 18, 11],[30, 1, 21, 17, 28]) # 입출력 예 #1"
   ]
  },
  {
   "cell_type": "code",
   "execution_count": 18,
   "id": "0c157b1f",
   "metadata": {},
   "outputs": [
    {
     "data": {
      "text/plain": [
       "['######', '###  #', '##  ##', ' #### ', ' #####', '### # ']"
      ]
     },
     "execution_count": 18,
     "metadata": {},
     "output_type": "execute_result"
    }
   ],
   "source": [
    "solution(6,[46, 33, 33 ,22, 31, 50],[27 ,56, 19, 14, 14, 10]) # 입출력 예 #2"
   ]
  },
  {
   "cell_type": "markdown",
   "id": "66ee555b",
   "metadata": {},
   "source": [
    "- 다른 사람의 풀이 #1"
   ]
  },
  {
   "cell_type": "code",
   "execution_count": 16,
   "id": "2b3f4bef",
   "metadata": {},
   "outputs": [],
   "source": [
    "def solution(n, arr1, arr2):\n",
    "    answer = []\n",
    "    for i,j in zip(arr1,arr2):\n",
    "        a12 = str(bin(i|j)[2:])\n",
    "        # bin(i|j) : i,j 2진수로 변환 & 같은 자리 모두 0, 하나라도 1 있으면 1로 출력\n",
    "        a12=a12.rjust(n,'0') # 한 변의 길이 n에 맞춰 앞에 0으로 채우기\n",
    "        a12=a12.replace('1','#')\n",
    "        a12=a12.replace('0',' ')\n",
    "        answer.append(a12)\n",
    "    return answer"
   ]
  },
  {
   "cell_type": "markdown",
   "id": "3c597f94",
   "metadata": {},
   "source": [
    "- 다른 사람의 풀이 #2"
   ]
  },
  {
   "cell_type": "code",
   "execution_count": 12,
   "id": "2f909a76",
   "metadata": {},
   "outputs": [],
   "source": [
    "solution = lambda n, arr1, arr2: ([''.join(map(lambda x: '#' if x=='1' else ' ', \"{0:b}\".format(row).zfill(n))) for row in (a|b for a, b in zip(arr1, arr2))])"
   ]
  },
  {
   "cell_type": "code",
   "execution_count": null,
   "id": "9b3ddaba",
   "metadata": {},
   "outputs": [],
   "source": []
  }
 ],
 "metadata": {
  "kernelspec": {
   "display_name": "Python 3 (ipykernel)",
   "language": "python",
   "name": "python3"
  },
  "language_info": {
   "codemirror_mode": {
    "name": "ipython",
    "version": 3
   },
   "file_extension": ".py",
   "mimetype": "text/x-python",
   "name": "python",
   "nbconvert_exporter": "python",
   "pygments_lexer": "ipython3",
   "version": "3.8.12"
  }
 },
 "nbformat": 4,
 "nbformat_minor": 5
}
