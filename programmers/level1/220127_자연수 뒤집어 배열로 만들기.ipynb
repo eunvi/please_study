{
 "cells": [
  {
   "cell_type": "markdown",
   "id": "0dae0ee7",
   "metadata": {},
   "source": [
    "- 나의 풀이"
   ]
  },
  {
   "cell_type": "code",
   "execution_count": 20,
   "id": "675ef970",
   "metadata": {},
   "outputs": [],
   "source": [
    "def solution(n):\n",
    "    return ([int(i) for i in reversed(str(n))])"
   ]
  },
  {
   "cell_type": "code",
   "execution_count": 22,
   "id": "b4ca3cd0",
   "metadata": {},
   "outputs": [
    {
     "data": {
      "text/plain": [
       "[5, 4, 3, 2, 1]"
      ]
     },
     "execution_count": 22,
     "metadata": {},
     "output_type": "execute_result"
    }
   ],
   "source": [
    "solution(12345) # 입출력 예 #1"
   ]
  },
  {
   "cell_type": "markdown",
   "id": "9242241a",
   "metadata": {},
   "source": [
    "- 다른 사람의 풀이 #1"
   ]
  },
  {
   "cell_type": "code",
   "execution_count": null,
   "id": "c6c940eb",
   "metadata": {},
   "outputs": [],
   "source": [
    "def solution(n):\n",
    "    return list(map(int, reversed(str(n))))"
   ]
  },
  {
   "cell_type": "markdown",
   "id": "30ea94c2",
   "metadata": {},
   "source": [
    "- 다른 사람의 풀이 #2"
   ]
  },
  {
   "cell_type": "code",
   "execution_count": null,
   "id": "14738210",
   "metadata": {},
   "outputs": [],
   "source": [
    "def solution(n):\n",
    "    return [int(i) for i in str(n)][::-1]"
   ]
  }
 ],
 "metadata": {
  "kernelspec": {
   "display_name": "Python 3 (ipykernel)",
   "language": "python",
   "name": "python3"
  },
  "language_info": {
   "codemirror_mode": {
    "name": "ipython",
    "version": 3
   },
   "file_extension": ".py",
   "mimetype": "text/x-python",
   "name": "python",
   "nbconvert_exporter": "python",
   "pygments_lexer": "ipython3",
   "version": "3.8.12"
  }
 },
 "nbformat": 4,
 "nbformat_minor": 5
}
