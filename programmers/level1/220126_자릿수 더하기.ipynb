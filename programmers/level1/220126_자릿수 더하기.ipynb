{
 "cells": [
  {
   "cell_type": "markdown",
   "id": "67d32243",
   "metadata": {},
   "source": [
    "- 나의 풀이 "
   ]
  },
  {
   "cell_type": "code",
   "execution_count": 39,
   "id": "09846774",
   "metadata": {},
   "outputs": [],
   "source": [
    "def solution(n):\n",
    "    answer = 0\n",
    "    for i in range(len(str(n))):\n",
    "        answer += int(str(n)[i])\n",
    "    return answer"
   ]
  },
  {
   "cell_type": "code",
   "execution_count": 50,
   "id": "da47908a",
   "metadata": {},
   "outputs": [
    {
     "data": {
      "text/plain": [
       "6"
      ]
     },
     "execution_count": 50,
     "metadata": {},
     "output_type": "execute_result"
    }
   ],
   "source": [
    "solution(123) # 입출력 예 #1"
   ]
  },
  {
   "cell_type": "code",
   "execution_count": 51,
   "id": "fc4c7d76",
   "metadata": {},
   "outputs": [
    {
     "data": {
      "text/plain": [
       "24"
      ]
     },
     "execution_count": 51,
     "metadata": {},
     "output_type": "execute_result"
    }
   ],
   "source": [
    "solution(987) # 입출력 예 #2"
   ]
  },
  {
   "cell_type": "code",
   "execution_count": null,
   "id": "96acb0b5",
   "metadata": {},
   "outputs": [],
   "source": []
  },
  {
   "cell_type": "markdown",
   "id": "8f46ec99",
   "metadata": {},
   "source": [
    "- 다른 사람의 풀이 #1\n",
    "\n",
    "    - number < 10 : number 그대로 출력\n",
    "    - number < 10 \n",
    "        - number %10 -> 나머지를 활용하여 마지막 자릿수 출력\n",
    "        - solution(number//10) -> 몫을 활용하여 첫번째,두번째,,, 자릿수 출력\n",
    "        - 재귀함수 : 자기 자신을 포함하고 다시 자기 자신을 사용하여 정의되는 함수"
   ]
  },
  {
   "cell_type": "code",
   "execution_count": 53,
   "id": "8daf0677",
   "metadata": {},
   "outputs": [],
   "source": [
    "def solution(number):\n",
    "    if number < 10:\n",
    "        return number;\n",
    "    return (number % 10) + solution(number // 10)"
   ]
  },
  {
   "cell_type": "markdown",
   "id": "8b75e5d7",
   "metadata": {},
   "source": [
    "- 다른 사람의 풀이 #2\n",
    "    - 나의 풀이에서 i를 인덱스가 아닌 숫자 자체로 활용"
   ]
  },
  {
   "cell_type": "code",
   "execution_count": 46,
   "id": "bed08c71",
   "metadata": {},
   "outputs": [],
   "source": [
    "def solution(number):\n",
    "    return sum([int(i) for i in str(number)])"
   ]
  },
  {
   "cell_type": "code",
   "execution_count": null,
   "id": "1d2cd3d3",
   "metadata": {},
   "outputs": [],
   "source": []
  }
 ],
 "metadata": {
  "kernelspec": {
   "display_name": "Python 3 (ipykernel)",
   "language": "python",
   "name": "python3"
  },
  "language_info": {
   "codemirror_mode": {
    "name": "ipython",
    "version": 3
   },
   "file_extension": ".py",
   "mimetype": "text/x-python",
   "name": "python",
   "nbconvert_exporter": "python",
   "pygments_lexer": "ipython3",
   "version": "3.8.12"
  }
 },
 "nbformat": 4,
 "nbformat_minor": 5
}
