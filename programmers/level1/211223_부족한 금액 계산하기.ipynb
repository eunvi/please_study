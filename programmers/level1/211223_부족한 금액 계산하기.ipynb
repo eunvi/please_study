{
 "cells": [
  {
   "cell_type": "markdown",
   "id": "ce1d5a08",
   "metadata": {},
   "source": [
    "- 나의 풀이(실패 95.7 / 100.0)"
   ]
  },
  {
   "cell_type": "code",
   "execution_count": 20,
   "id": "e7b01df8",
   "metadata": {},
   "outputs": [],
   "source": [
    "def solution(price, money, count):\n",
    "    \n",
    "    for i in range(1,count+1):\n",
    "        money -= price*i\n",
    "    if money < 0:\n",
    "        money = abs(money)\n",
    "    else:\n",
    "        money\n",
    "\n",
    "    return money"
   ]
  },
  {
   "cell_type": "markdown",
   "id": "59f66f0b",
   "metadata": {},
   "source": [
    "- 나의 풀이(최종 통과)"
   ]
  },
  {
   "cell_type": "code",
   "execution_count": null,
   "id": "e63bf759",
   "metadata": {},
   "outputs": [],
   "source": [
    "def solution(price, money, count):\n",
    "\n",
    "    for i in range(1,count+1):\n",
    "        money -= price*i\n",
    "    if money < 0:\n",
    "        money = abs(money)\n",
    "    else:\n",
    "        money = 0 # 부족한 금액이 없으면 money=0 으로 반환해야한다.\n",
    "\n",
    "    return money"
   ]
  },
  {
   "cell_type": "code",
   "execution_count": 30,
   "id": "8227c997",
   "metadata": {},
   "outputs": [
    {
     "data": {
      "text/plain": [
       "10"
      ]
     },
     "execution_count": 30,
     "metadata": {},
     "output_type": "execute_result"
    }
   ],
   "source": [
    "solution(3,20,4) # 입출력 예 #1"
   ]
  },
  {
   "cell_type": "code",
   "execution_count": null,
   "id": "bf55751f",
   "metadata": {},
   "outputs": [],
   "source": []
  },
  {
   "cell_type": "markdown",
   "id": "33243a99",
   "metadata": {},
   "source": [
    "- 다른 사람의 풀이 #1"
   ]
  },
  {
   "cell_type": "code",
   "execution_count": 22,
   "id": "128d87e2",
   "metadata": {},
   "outputs": [],
   "source": [
    "def solution(price, money, count):\n",
    "    return max(0,price*(count+1)*count//2-money) # 산술평균 사용..n(n+1)/2"
   ]
  },
  {
   "cell_type": "markdown",
   "id": "417cc548",
   "metadata": {},
   "source": [
    "- 다른 사람의 풀이 #2"
   ]
  },
  {
   "cell_type": "code",
   "execution_count": 24,
   "id": "4880cdc7",
   "metadata": {},
   "outputs": [],
   "source": [
    "def solution(price, money, count):\n",
    "    return abs(min(money - sum([price*i for i in range(1,count+1)]),0))"
   ]
  },
  {
   "cell_type": "markdown",
   "id": "f3ef262f",
   "metadata": {},
   "source": [
    "- 다른 사람의 풀이 #3"
   ]
  },
  {
   "cell_type": "code",
   "execution_count": 29,
   "id": "7bb28527",
   "metadata": {},
   "outputs": [],
   "source": [
    "def solution(price, money, count):\n",
    "    pay = 0\n",
    "    for i in range(1, count+1):\n",
    "        pay += (price * i)\n",
    "    if money < pay:\n",
    "        return pay - money\n",
    "    else:\n",
    "        return 0"
   ]
  },
  {
   "cell_type": "code",
   "execution_count": null,
   "id": "917ed0a3",
   "metadata": {},
   "outputs": [],
   "source": []
  }
 ],
 "metadata": {
  "kernelspec": {
   "display_name": "Python 3 (ipykernel)",
   "language": "python",
   "name": "python3"
  },
  "language_info": {
   "codemirror_mode": {
    "name": "ipython",
    "version": 3
   },
   "file_extension": ".py",
   "mimetype": "text/x-python",
   "name": "python",
   "nbconvert_exporter": "python",
   "pygments_lexer": "ipython3",
   "version": "3.8.12"
  }
 },
 "nbformat": 4,
 "nbformat_minor": 5
}
