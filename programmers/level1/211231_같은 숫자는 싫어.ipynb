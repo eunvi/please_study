{
 "cells": [
  {
   "cell_type": "markdown",
   "id": "dc77b129",
   "metadata": {},
   "source": [
    "- 나의 풀이"
   ]
  },
  {
   "cell_type": "code",
   "execution_count": 81,
   "id": "b3ca385f",
   "metadata": {},
   "outputs": [],
   "source": [
    "def solution(arr):\n",
    "    answer = [arr[i] for i in range(len(arr)-1) if arr[i] != arr[i+1]]\n",
    "    answer.append(arr[-1])\n",
    "    return answer"
   ]
  },
  {
   "cell_type": "code",
   "execution_count": 82,
   "id": "9bb8606b",
   "metadata": {},
   "outputs": [
    {
     "data": {
      "text/plain": [
       "[1, 3, 0, 1]"
      ]
     },
     "execution_count": 82,
     "metadata": {},
     "output_type": "execute_result"
    }
   ],
   "source": [
    "solution([1,1,3,3,0,1,1]) # 입출력 예 #1"
   ]
  },
  {
   "cell_type": "code",
   "execution_count": 83,
   "id": "f083e2b1",
   "metadata": {},
   "outputs": [
    {
     "data": {
      "text/plain": [
       "[4, 3]"
      ]
     },
     "execution_count": 83,
     "metadata": {},
     "output_type": "execute_result"
    }
   ],
   "source": [
    "solution([4,4,4,3,3]) # 입출력 예 #2"
   ]
  },
  {
   "cell_type": "markdown",
   "id": "fef3b264",
   "metadata": {},
   "source": [
    "- 다른 사람의 풀이 #1"
   ]
  },
  {
   "cell_type": "code",
   "execution_count": 55,
   "id": "cfc856f8",
   "metadata": {},
   "outputs": [],
   "source": [
    "def solution(s):\n",
    "    a = []\n",
    "    for i in s:\n",
    "        if a[-1:] == [i]: continue \n",
    "        # a의 마지막 원소와 같을 경우 continue(아래 코드를 실행X)\n",
    "        a.append(i)\n",
    "    return a"
   ]
  },
  {
   "cell_type": "markdown",
   "id": "d02284e3",
   "metadata": {},
   "source": [
    "- 다른 사람의 풀이 #2"
   ]
  },
  {
   "cell_type": "code",
   "execution_count": 75,
   "id": "f962d958",
   "metadata": {},
   "outputs": [],
   "source": [
    "def solution(s): # 슬라이싱은 인덱스 값이 범위를 초과해도 오류 X\n",
    "    return [s[i] for i in range(len(s)) if [s[i]] != s[i+1:i+2]]"
   ]
  },
  {
   "cell_type": "code",
   "execution_count": null,
   "id": "71955e65",
   "metadata": {},
   "outputs": [],
   "source": []
  }
 ],
 "metadata": {
  "kernelspec": {
   "display_name": "Python 3 (ipykernel)",
   "language": "python",
   "name": "python3"
  },
  "language_info": {
   "codemirror_mode": {
    "name": "ipython",
    "version": 3
   },
   "file_extension": ".py",
   "mimetype": "text/x-python",
   "name": "python",
   "nbconvert_exporter": "python",
   "pygments_lexer": "ipython3",
   "version": "3.8.12"
  }
 },
 "nbformat": 4,
 "nbformat_minor": 5
}
