{
 "cells": [
  {
   "cell_type": "markdown",
   "id": "0f037694",
   "metadata": {},
   "source": [
    "- 나의 풀이"
   ]
  },
  {
   "cell_type": "code",
   "execution_count": 39,
   "id": "f06ca7af",
   "metadata": {},
   "outputs": [],
   "source": [
    "def solution(n):\n",
    "    for i in range(1,n):\n",
    "        if n%i == 1:\n",
    "            answer =i\n",
    "            break\n",
    "    return answer"
   ]
  },
  {
   "cell_type": "code",
   "execution_count": 51,
   "id": "de19d85f",
   "metadata": {},
   "outputs": [
    {
     "data": {
      "text/plain": [
       "3"
      ]
     },
     "execution_count": 51,
     "metadata": {},
     "output_type": "execute_result"
    }
   ],
   "source": [
    "solution(10) # 입출력 예 #1"
   ]
  },
  {
   "cell_type": "code",
   "execution_count": 52,
   "id": "1b62ec19",
   "metadata": {},
   "outputs": [
    {
     "data": {
      "text/plain": [
       "11"
      ]
     },
     "execution_count": 52,
     "metadata": {},
     "output_type": "execute_result"
    }
   ],
   "source": [
    "solution(12) # 입출력 예 #2"
   ]
  },
  {
   "cell_type": "markdown",
   "id": "afe86489",
   "metadata": {},
   "source": [
    "- 다른 사람의 풀이 #1"
   ]
  },
  {
   "cell_type": "code",
   "execution_count": 45,
   "id": "4c52739d",
   "metadata": {},
   "outputs": [],
   "source": [
    "def solution(n):\n",
    "    answer = 0\n",
    "\n",
    "    for divisior in range(2, (n-1//2) +1) : #2부터~반값까지 \n",
    "        if (n-1) % divisior == 0: #약수가 있다면\n",
    "            answer = divisior \n",
    "            break #탈출\n",
    "        else: \n",
    "            answer = n-1 #약수가 없다면 본인\n",
    "    return answer"
   ]
  },
  {
   "cell_type": "markdown",
   "id": "0f2a5b8d",
   "metadata": {},
   "source": [
    "- 다른 사람의 풀이 #2"
   ]
  },
  {
   "cell_type": "code",
   "execution_count": 42,
   "id": "ba04e3ea",
   "metadata": {},
   "outputs": [],
   "source": [
    "def solution(n):\n",
    "    answer = min([x for x in range(1, n+1) if n % x == 1])\n",
    "    return answer"
   ]
  },
  {
   "cell_type": "markdown",
   "id": "a60e20b7",
   "metadata": {},
   "source": [
    "- 다른 사람의 풀이 #3"
   ]
  },
  {
   "cell_type": "code",
   "execution_count": 48,
   "id": "af56115c",
   "metadata": {},
   "outputs": [],
   "source": [
    "def solution(n):\n",
    "\n",
    "    if not 3 <= n <= 1000000 :\n",
    "        return False\n",
    "\n",
    "    answer = 2\n",
    "    while True :\n",
    "        if n % answer == 1 :\n",
    "            break\n",
    "        else :\n",
    "            answer += 1\n",
    "\n",
    "    return answer"
   ]
  },
  {
   "cell_type": "code",
   "execution_count": null,
   "id": "e9dba6fa",
   "metadata": {},
   "outputs": [],
   "source": []
  }
 ],
 "metadata": {
  "kernelspec": {
   "display_name": "Python 3 (ipykernel)",
   "language": "python",
   "name": "python3"
  },
  "language_info": {
   "codemirror_mode": {
    "name": "ipython",
    "version": 3
   },
   "file_extension": ".py",
   "mimetype": "text/x-python",
   "name": "python",
   "nbconvert_exporter": "python",
   "pygments_lexer": "ipython3",
   "version": "3.8.12"
  }
 },
 "nbformat": 4,
 "nbformat_minor": 5
}
