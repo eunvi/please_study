{
 "cells": [
  {
   "cell_type": "markdown",
   "id": "deaf532c",
   "metadata": {},
   "source": [
    "- 나의 풀이"
   ]
  },
  {
   "cell_type": "code",
   "execution_count": 2,
   "id": "e6723f00",
   "metadata": {},
   "outputs": [],
   "source": [
    "def solution(s):\n",
    "    return int(s)"
   ]
  },
  {
   "cell_type": "code",
   "execution_count": null,
   "id": "36290f3d",
   "metadata": {},
   "outputs": [],
   "source": []
  },
  {
   "cell_type": "markdown",
   "id": "874b37eb",
   "metadata": {},
   "source": [
    "- 다른 사람의 풀이 #1\n",
    "    - int(s)만으로 문제를 통과할 수 있었지만 출제의도와 맞는 답안은 다음이라고 생각한다."
   ]
  },
  {
   "cell_type": "code",
   "execution_count": 10,
   "id": "4ae0cfee",
   "metadata": {},
   "outputs": [],
   "source": [
    "def solution(str):\n",
    "    result = 0\n",
    "\n",
    "    for idx, number in enumerate(str[::-1]): # 1의 간격으로 문자열 뒷자리와 인덱스 값 호출\n",
    "        if number == '-':\n",
    "            result *= -1\n",
    "        else:\n",
    "            result += int(number) * (10 ** idx) # 각 자리수 * 10의 idx 승\n",
    "\n",
    "    return result\n"
   ]
  },
  {
   "cell_type": "code",
   "execution_count": null,
   "id": "c6ee47bf",
   "metadata": {},
   "outputs": [],
   "source": []
  }
 ],
 "metadata": {
  "kernelspec": {
   "display_name": "Python 3 (ipykernel)",
   "language": "python",
   "name": "python3"
  },
  "language_info": {
   "codemirror_mode": {
    "name": "ipython",
    "version": 3
   },
   "file_extension": ".py",
   "mimetype": "text/x-python",
   "name": "python",
   "nbconvert_exporter": "python",
   "pygments_lexer": "ipython3",
   "version": "3.8.12"
  }
 },
 "nbformat": 4,
 "nbformat_minor": 5
}
