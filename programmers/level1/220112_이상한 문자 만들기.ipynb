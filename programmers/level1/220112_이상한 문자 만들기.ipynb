{
 "cells": [
  {
   "cell_type": "markdown",
   "id": "75af6bf1",
   "metadata": {},
   "source": [
    "- 나의 풀이 (정확성 오답, 합계: 31.3 / 100.0)"
   ]
  },
  {
   "cell_type": "code",
   "execution_count": 79,
   "id": "28057b78",
   "metadata": {},
   "outputs": [],
   "source": [
    "def solution(s):\n",
    "    \n",
    "    answer = \"\"\n",
    "    \n",
    "    for i in s.split():\n",
    "        n=0\n",
    "        while n != len(i):\n",
    "            if n%2==0:\n",
    "                answer += i[n].upper()\n",
    "                n += 1\n",
    "            else:\n",
    "                answer += i[n].lower()\n",
    "                n += 1\n",
    "        answer += \" \"\n",
    "        \n",
    "    return answer.strip()"
   ]
  },
  {
   "cell_type": "markdown",
   "id": "db72ebcc",
   "metadata": {},
   "source": [
    "- 나의 풀이 (정확성 오답, 합계: 56.3 / 100.0\n",
    "    - s.split() → s.split(\" \") : 한 개 이상의 공백은 포함"
   ]
  },
  {
   "cell_type": "code",
   "execution_count": 80,
   "id": "800ed47e",
   "metadata": {},
   "outputs": [],
   "source": [
    "def solution(s):\n",
    "    \n",
    "    answer = \"\"\n",
    "    \n",
    "    for i in s.split(\" \"):\n",
    "        n=0\n",
    "        while n != len(i):\n",
    "            if n%2==0:\n",
    "                answer += i[n].upper()\n",
    "                n += 1\n",
    "            else:\n",
    "                answer += i[n].lower()\n",
    "                n += 1\n",
    "        answer += \" \"\n",
    "        \n",
    "    return answer.strip()"
   ]
  },
  {
   "cell_type": "markdown",
   "id": "67e22bc2",
   "metadata": {},
   "source": [
    "- 나의 풀이 (최종 통과)\n",
    "    - return하는 answer값에 추가해준 마지막 공백만 빼줘야 한다."
   ]
  },
  {
   "cell_type": "code",
   "execution_count": 81,
   "id": "f04ade8a",
   "metadata": {},
   "outputs": [],
   "source": [
    "def solution(s):\n",
    "    \n",
    "    answer = \"\"\n",
    "    \n",
    "    for i in s.split(\" \"):\n",
    "        n=0\n",
    "        while n != len(i):\n",
    "            if n%2==0:\n",
    "                answer += i[n].upper()\n",
    "                n += 1\n",
    "            else:\n",
    "                answer += i[n].lower()\n",
    "                n += 1\n",
    "        answer += \" \"\n",
    "        \n",
    "    return answer[:-1]"
   ]
  },
  {
   "cell_type": "code",
   "execution_count": 86,
   "id": "3c3b9678",
   "metadata": {},
   "outputs": [
    {
     "data": {
      "text/plain": [
       "'TrY HeLlO WoRlD'"
      ]
     },
     "execution_count": 86,
     "metadata": {},
     "output_type": "execute_result"
    }
   ],
   "source": [
    "solution(\"try hello world\") # 입출력 예 #1"
   ]
  },
  {
   "cell_type": "markdown",
   "id": "0a3a985a",
   "metadata": {},
   "source": [
    "- 다른 사람의 풀이 #1"
   ]
  },
  {
   "cell_type": "code",
   "execution_count": 85,
   "id": "9445e7e8",
   "metadata": {},
   "outputs": [],
   "source": [
    "def solution(s):\n",
    "    return \" \".join(map(lambda x: \"\".join([a.lower() if i % 2 else a.upper() for i, a in enumerate(x)]), s.split(\" \")))"
   ]
  },
  {
   "cell_type": "code",
   "execution_count": null,
   "id": "9256590a",
   "metadata": {},
   "outputs": [],
   "source": []
  }
 ],
 "metadata": {
  "kernelspec": {
   "display_name": "Python 3 (ipykernel)",
   "language": "python",
   "name": "python3"
  },
  "language_info": {
   "codemirror_mode": {
    "name": "ipython",
    "version": 3
   },
   "file_extension": ".py",
   "mimetype": "text/x-python",
   "name": "python",
   "nbconvert_exporter": "python",
   "pygments_lexer": "ipython3",
   "version": "3.8.12"
  }
 },
 "nbformat": 4,
 "nbformat_minor": 5
}
