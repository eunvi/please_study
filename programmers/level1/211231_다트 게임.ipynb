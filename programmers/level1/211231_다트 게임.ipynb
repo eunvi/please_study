{
 "cells": [
  {
   "cell_type": "markdown",
   "id": "1801c250",
   "metadata": {},
   "source": [
    "- 나의 풀이"
   ]
  },
  {
   "cell_type": "code",
   "execution_count": null,
   "id": "b93c230b",
   "metadata": {},
   "outputs": [],
   "source": [
    "def solution(dartResult):\n",
    "    answer = 0\n",
    "    return answer"
   ]
  },
  {
   "cell_type": "code",
   "execution_count": 17,
   "id": "d277af7d",
   "metadata": {},
   "outputs": [],
   "source": [
    "dict_ = {'S':1,'D':2,'T':3,'*':2,'#':-1}"
   ]
  },
  {
   "cell_type": "code",
   "execution_count": 19,
   "id": "50dc29fa",
   "metadata": {},
   "outputs": [
    {
     "data": {
      "text/plain": [
       "2"
      ]
     },
     "execution_count": 19,
     "metadata": {},
     "output_type": "execute_result"
    }
   ],
   "source": [
    "dict_['*']"
   ]
  },
  {
   "cell_type": "code",
   "execution_count": 20,
   "id": "0ea38b40",
   "metadata": {},
   "outputs": [],
   "source": [
    "dartResult = '1S2D*3T'"
   ]
  },
  {
   "cell_type": "code",
   "execution_count": 35,
   "id": "fad51ec3",
   "metadata": {},
   "outputs": [],
   "source": [
    "n = 2\n",
    "while n == 8:\n",
    "    if list(dartResult)[n] not in ['*','#']:\n",
    "        list(dartResult).insert(n,0)\n",
    "        n += 3"
   ]
  },
  {
   "cell_type": "code",
   "execution_count": 36,
   "id": "a90c8edb",
   "metadata": {},
   "outputs": [
    {
     "data": {
      "text/plain": [
       "'D'"
      ]
     },
     "execution_count": 36,
     "metadata": {},
     "output_type": "execute_result"
    }
   ],
   "source": [
    "dartResult[3]"
   ]
  },
  {
   "cell_type": "code",
   "execution_count": 37,
   "id": "2b583b16",
   "metadata": {},
   "outputs": [
    {
     "data": {
      "text/plain": [
       "'1S2D*3T'"
      ]
     },
     "execution_count": 37,
     "metadata": {},
     "output_type": "execute_result"
    }
   ],
   "source": [
    "dartResult"
   ]
  },
  {
   "cell_type": "code",
   "execution_count": 33,
   "id": "fd6e4f6d",
   "metadata": {},
   "outputs": [
    {
     "data": {
      "text/plain": [
       "str"
      ]
     },
     "execution_count": 33,
     "metadata": {},
     "output_type": "execute_result"
    }
   ],
   "source": [
    "type(dartResult)"
   ]
  },
  {
   "cell_type": "code",
   "execution_count": null,
   "id": "197b764e",
   "metadata": {},
   "outputs": [],
   "source": []
  },
  {
   "cell_type": "markdown",
   "id": "6b105cc4",
   "metadata": {},
   "source": [
    "- 다른 사람의 풀이 #1"
   ]
  },
  {
   "cell_type": "code",
   "execution_count": null,
   "id": "6944719f",
   "metadata": {},
   "outputs": [],
   "source": []
  },
  {
   "cell_type": "markdown",
   "id": "15df4244",
   "metadata": {},
   "source": [
    "- 다른 사람의 풀이 #2"
   ]
  },
  {
   "cell_type": "code",
   "execution_count": null,
   "id": "ed071a82",
   "metadata": {},
   "outputs": [],
   "source": []
  }
 ],
 "metadata": {
  "kernelspec": {
   "display_name": "Python 3 (ipykernel)",
   "language": "python",
   "name": "python3"
  },
  "language_info": {
   "codemirror_mode": {
    "name": "ipython",
    "version": 3
   },
   "file_extension": ".py",
   "mimetype": "text/x-python",
   "name": "python",
   "nbconvert_exporter": "python",
   "pygments_lexer": "ipython3",
   "version": "3.8.12"
  }
 },
 "nbformat": 4,
 "nbformat_minor": 5
}
