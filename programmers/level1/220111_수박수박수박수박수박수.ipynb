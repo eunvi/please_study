{
 "cells": [
  {
   "cell_type": "markdown",
   "id": "465001ce",
   "metadata": {},
   "source": [
    "- 나의 풀이 "
   ]
  },
  {
   "cell_type": "code",
   "execution_count": 1,
   "id": "0c8108df",
   "metadata": {},
   "outputs": [],
   "source": [
    "def solution(n):\n",
    "    answer = '수박'\n",
    "    if n%2==0:\n",
    "        answer *= n//2\n",
    "    else:\n",
    "        answer *= n//2\n",
    "        answer += '수'\n",
    "    return answer"
   ]
  },
  {
   "cell_type": "code",
   "execution_count": 2,
   "id": "426ce403",
   "metadata": {},
   "outputs": [
    {
     "data": {
      "text/plain": [
       "'수박수'"
      ]
     },
     "execution_count": 2,
     "metadata": {},
     "output_type": "execute_result"
    }
   ],
   "source": [
    "solution(3) # 입출력 예 #1"
   ]
  },
  {
   "cell_type": "code",
   "execution_count": 3,
   "id": "7926dc98",
   "metadata": {},
   "outputs": [
    {
     "data": {
      "text/plain": [
       "'수박수박'"
      ]
     },
     "execution_count": 3,
     "metadata": {},
     "output_type": "execute_result"
    }
   ],
   "source": [
    "solution(4) # 입출력 예 #2"
   ]
  },
  {
   "cell_type": "markdown",
   "id": "0b7fadf6",
   "metadata": {},
   "source": [
    "- 다른 사람의 풀이 #1"
   ]
  },
  {
   "cell_type": "code",
   "execution_count": 22,
   "id": "a4171dd8",
   "metadata": {},
   "outputs": [],
   "source": [
    "def solution(n):\n",
    "    s = \"수박\" * n # 수박을 반복하는 문자열을 만들고\n",
    "    return s[:n] # n만큼 문자열 자르기"
   ]
  },
  {
   "cell_type": "markdown",
   "id": "9c898d5b",
   "metadata": {},
   "source": [
    "- 다른 사람의 풀이 #2"
   ]
  },
  {
   "cell_type": "code",
   "execution_count": 18,
   "id": "a3829f9b",
   "metadata": {},
   "outputs": [],
   "source": [
    "def solution(n):\n",
    "    return \"수박\"*(n//2) + \"수\"*(n%2) # 나의 풀이를 한 줄로 나타낸 풀이"
   ]
  },
  {
   "cell_type": "code",
   "execution_count": null,
   "id": "c547f5bc",
   "metadata": {},
   "outputs": [],
   "source": []
  }
 ],
 "metadata": {
  "kernelspec": {
   "display_name": "Python 3 (ipykernel)",
   "language": "python",
   "name": "python3"
  },
  "language_info": {
   "codemirror_mode": {
    "name": "ipython",
    "version": 3
   },
   "file_extension": ".py",
   "mimetype": "text/x-python",
   "name": "python",
   "nbconvert_exporter": "python",
   "pygments_lexer": "ipython3",
   "version": "3.8.12"
  }
 },
 "nbformat": 4,
 "nbformat_minor": 5
}
