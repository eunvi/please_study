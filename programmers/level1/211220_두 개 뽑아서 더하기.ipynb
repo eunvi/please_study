{
 "cells": [
  {
   "cell_type": "markdown",
   "id": "a165572c",
   "metadata": {},
   "source": [
    "- 나의 풀이"
   ]
  },
  {
   "cell_type": "code",
   "execution_count": 14,
   "id": "b9aada04",
   "metadata": {},
   "outputs": [],
   "source": [
    "def solution(numbers):\n",
    "    from itertools import combinations as cb\n",
    "    \n",
    "    answer = []\n",
    "    \n",
    "    for i,j in cb(numbers,2):\n",
    "        if i+j not in answer:\n",
    "            answer.append(i+j)\n",
    "        \n",
    "    return sorted(answer)"
   ]
  },
  {
   "cell_type": "code",
   "execution_count": 26,
   "id": "661fc442",
   "metadata": {},
   "outputs": [
    {
     "data": {
      "text/plain": [
       "[2, 3, 4, 5, 6, 7]"
      ]
     },
     "execution_count": 26,
     "metadata": {},
     "output_type": "execute_result"
    }
   ],
   "source": [
    "solution([2,1,3,4,1]) # 입출력 예 #1"
   ]
  },
  {
   "cell_type": "code",
   "execution_count": 27,
   "id": "0dd17379",
   "metadata": {},
   "outputs": [
    {
     "data": {
      "text/plain": [
       "[2, 5, 7, 9, 12]"
      ]
     },
     "execution_count": 27,
     "metadata": {},
     "output_type": "execute_result"
    }
   ],
   "source": [
    "solution([5,0,2,7]) # 입출력 예 #2"
   ]
  },
  {
   "cell_type": "markdown",
   "id": "4f423ce4",
   "metadata": {},
   "source": [
    "- 다른 사람의 풀이 #1"
   ]
  },
  {
   "cell_type": "code",
   "execution_count": 19,
   "id": "da349359",
   "metadata": {},
   "outputs": [],
   "source": [
    "def solution(numbers):\n",
    "    answer = []\n",
    "    for i in range(len(numbers)):\n",
    "        for j in range(i+1, len(numbers)):\n",
    "            answer.append(numbers[i] + numbers[j])\n",
    "    return sorted(list(set(answer)))"
   ]
  },
  {
   "cell_type": "markdown",
   "id": "569fa813",
   "metadata": {},
   "source": [
    "- 다른 사람의 풀이 #2"
   ]
  },
  {
   "cell_type": "code",
   "execution_count": 22,
   "id": "7c5e4f9d",
   "metadata": {},
   "outputs": [],
   "source": [
    "from itertools import combinations\n",
    "\n",
    "def solution(numbers):\n",
    "    answer = []\n",
    "    l = list(combinations(numbers, 2))\n",
    "\n",
    "    for i in l:\n",
    "        answer.append(i[0]+i[1])\n",
    "    answer = list(set(answer))\n",
    "    answer.sort()\n",
    "\n",
    "    return answer"
   ]
  },
  {
   "cell_type": "markdown",
   "id": "22aa7ceb",
   "metadata": {},
   "source": [
    "- 다른 사람의 풀이 #3"
   ]
  },
  {
   "cell_type": "code",
   "execution_count": 25,
   "id": "eca57622",
   "metadata": {},
   "outputs": [],
   "source": [
    "def solution(numbers): return sorted({numbers[i] + numbers[j] for i in range(len(numbers)) for j in range(len(numbers)) if i>j})"
   ]
  },
  {
   "cell_type": "code",
   "execution_count": null,
   "id": "4d1dd3f9",
   "metadata": {},
   "outputs": [],
   "source": []
  }
 ],
 "metadata": {
  "kernelspec": {
   "display_name": "Python 3 (ipykernel)",
   "language": "python",
   "name": "python3"
  },
  "language_info": {
   "codemirror_mode": {
    "name": "ipython",
    "version": 3
   },
   "file_extension": ".py",
   "mimetype": "text/x-python",
   "name": "python",
   "nbconvert_exporter": "python",
   "pygments_lexer": "ipython3",
   "version": "3.8.12"
  }
 },
 "nbformat": 4,
 "nbformat_minor": 5
}
