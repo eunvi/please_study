{
 "cells": [
  {
   "cell_type": "markdown",
   "id": "23024135",
   "metadata": {},
   "source": [
    "- 나의 풀이"
   ]
  },
  {
   "cell_type": "code",
   "execution_count": 65,
   "id": "52e026f3",
   "metadata": {},
   "outputs": [],
   "source": [
    "def solution(arr, divisor):\n",
    "    answer = [i for i in arr if i%divisor == 0]\n",
    "    if len(answer)==0:\n",
    "        answer.append(-1)\n",
    "    return sorted(answer)"
   ]
  },
  {
   "cell_type": "code",
   "execution_count": 82,
   "id": "28bbd86a",
   "metadata": {},
   "outputs": [
    {
     "data": {
      "text/plain": [
       "[5, 10]"
      ]
     },
     "execution_count": 82,
     "metadata": {},
     "output_type": "execute_result"
    }
   ],
   "source": [
    "solution([5, 9, 7, 10],5) # 입출력 예 #1"
   ]
  },
  {
   "cell_type": "code",
   "execution_count": 83,
   "id": "394c8df8",
   "metadata": {},
   "outputs": [
    {
     "data": {
      "text/plain": [
       "[1, 2, 3, 36]"
      ]
     },
     "execution_count": 83,
     "metadata": {},
     "output_type": "execute_result"
    }
   ],
   "source": [
    "solution([2, 36, 1, 3],1) # 입출력 예 #2"
   ]
  },
  {
   "cell_type": "code",
   "execution_count": 84,
   "id": "57457b2e",
   "metadata": {},
   "outputs": [
    {
     "data": {
      "text/plain": [
       "[-1]"
      ]
     },
     "execution_count": 84,
     "metadata": {},
     "output_type": "execute_result"
    }
   ],
   "source": [
    "solution([3,2,6],10) # 입출력 예 #3"
   ]
  },
  {
   "cell_type": "code",
   "execution_count": null,
   "id": "5a2bc226",
   "metadata": {},
   "outputs": [],
   "source": []
  },
  {
   "cell_type": "markdown",
   "id": "f586b7e6",
   "metadata": {},
   "source": [
    "- 다른 사람의 풀이 #1 "
   ]
  },
  {
   "cell_type": "code",
   "execution_count": 69,
   "id": "ce51be45",
   "metadata": {},
   "outputs": [],
   "source": [
    "# 거짓일 경우 or 뒤의 값을 호출한다!\n",
    "def solution(arr, divisor): return sorted([n for n in arr if n%divisor == 0]) or [-1] "
   ]
  },
  {
   "cell_type": "markdown",
   "id": "d45eeb53",
   "metadata": {},
   "source": [
    "- 다른 사람의 풀이 #2"
   ]
  },
  {
   "cell_type": "code",
   "execution_count": 81,
   "id": "4d833c26",
   "metadata": {},
   "outputs": [],
   "source": [
    "def solution(arr, divisor):\n",
    "    arr = [x for x in arr if x % divisor == 0]\n",
    "    arr.sort()\n",
    "    # append(-1)이 아닌 else를 활용하여 예외 조건 충족\n",
    "    return arr if len(arr) != 0 else [-1]"
   ]
  },
  {
   "cell_type": "code",
   "execution_count": null,
   "id": "56e366c4",
   "metadata": {},
   "outputs": [],
   "source": []
  }
 ],
 "metadata": {
  "kernelspec": {
   "display_name": "Python 3 (ipykernel)",
   "language": "python",
   "name": "python3"
  },
  "language_info": {
   "codemirror_mode": {
    "name": "ipython",
    "version": 3
   },
   "file_extension": ".py",
   "mimetype": "text/x-python",
   "name": "python",
   "nbconvert_exporter": "python",
   "pygments_lexer": "ipython3",
   "version": "3.8.12"
  }
 },
 "nbformat": 4,
 "nbformat_minor": 5
}
