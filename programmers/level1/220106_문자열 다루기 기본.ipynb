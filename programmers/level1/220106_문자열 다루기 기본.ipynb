{
 "cells": [
  {
   "cell_type": "markdown",
   "id": "151c1926",
   "metadata": {},
   "source": [
    "- 나의 풀이(정확성: 62.5 / 100.0)"
   ]
  },
  {
   "cell_type": "code",
   "execution_count": 1,
   "id": "6dd31774",
   "metadata": {},
   "outputs": [],
   "source": [
    "def solution(s):\n",
    "    num = ['0','1','2','3','4','5','6','7','8','9']\n",
    "    if len(s) == 4 or len(s) == 6:\n",
    "        return True if sum([True if i in num else False for i in s]) == 4 else False"
   ]
  },
  {
   "cell_type": "markdown",
   "id": "811ea55b",
   "metadata": {},
   "source": [
    "- 나의 풀이 (최종 답안)"
   ]
  },
  {
   "cell_type": "code",
   "execution_count": 2,
   "id": "0a93cf46",
   "metadata": {},
   "outputs": [],
   "source": [
    "def solution(s):\n",
    "    \n",
    "    num = ['0','1','2','3','4','5','6','7','8','9']\n",
    "    \n",
    "    if len(s) == 4 or len(s) == 6:\n",
    "        return True if sum([True if i in num else False for i in s]) == 4 else False\n",
    "    \n",
    "    else:\n",
    "        return False"
   ]
  },
  {
   "cell_type": "code",
   "execution_count": 3,
   "id": "c439e307",
   "metadata": {
    "scrolled": true
   },
   "outputs": [
    {
     "data": {
      "text/plain": [
       "False"
      ]
     },
     "execution_count": 3,
     "metadata": {},
     "output_type": "execute_result"
    }
   ],
   "source": [
    "solution(\"a234\") # 입출력 예 #1"
   ]
  },
  {
   "cell_type": "code",
   "execution_count": 4,
   "id": "17b08e2c",
   "metadata": {},
   "outputs": [
    {
     "data": {
      "text/plain": [
       "True"
      ]
     },
     "execution_count": 4,
     "metadata": {},
     "output_type": "execute_result"
    }
   ],
   "source": [
    "solution(\"1234\") # 입출력 예 #2"
   ]
  },
  {
   "cell_type": "markdown",
   "id": "c82c5488",
   "metadata": {},
   "source": [
    "- 다른 사람의 풀이 #1"
   ]
  },
  {
   "cell_type": "code",
   "execution_count": 5,
   "id": "9ee45644",
   "metadata": {},
   "outputs": [],
   "source": [
    "def solution(s):\n",
    "    # .isdigit() : 숫자를 판단하는 함수\n",
    "    return s.isdigit() and len(s) in (4, 6)"
   ]
  },
  {
   "cell_type": "markdown",
   "id": "b7af3e5e",
   "metadata": {},
   "source": [
    "- 다른 사람의 풀이 #2"
   ]
  },
  {
   "cell_type": "code",
   "execution_count": 14,
   "id": "0f638a2c",
   "metadata": {},
   "outputs": [],
   "source": [
    "def solution(s):\n",
    "    try:\n",
    "        int(s)\n",
    "    except:\n",
    "        return False\n",
    "    return len(s) == 4 or len(s) == 6"
   ]
  },
  {
   "cell_type": "code",
   "execution_count": null,
   "id": "de64dfd0",
   "metadata": {},
   "outputs": [],
   "source": []
  }
 ],
 "metadata": {
  "kernelspec": {
   "display_name": "Python 3 (ipykernel)",
   "language": "python",
   "name": "python3"
  },
  "language_info": {
   "codemirror_mode": {
    "name": "ipython",
    "version": 3
   },
   "file_extension": ".py",
   "mimetype": "text/x-python",
   "name": "python",
   "nbconvert_exporter": "python",
   "pygments_lexer": "ipython3",
   "version": "3.8.12"
  }
 },
 "nbformat": 4,
 "nbformat_minor": 5
}
