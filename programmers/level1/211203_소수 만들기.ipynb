{
 "cells": [
  {
   "cell_type": "markdown",
   "id": "cc9742cc",
   "metadata": {},
   "source": [
    "- 나의 풀이 (시간초과 실패  92.3 / 100.0)"
   ]
  },
  {
   "cell_type": "code",
   "execution_count": 1,
   "id": "93c4aedb",
   "metadata": {},
   "outputs": [],
   "source": [
    "def solution(nums):\n",
    "    answer = 0\n",
    "    for i in nums[:-2]:\n",
    "        for j in nums[nums.index(i)+1:-1]:\n",
    "            if i != j:\n",
    "                for k in nums[nums.index(j)+1:]:\n",
    "                    if i != j:\n",
    "                        count = 0\n",
    "                        for l in range(2,i+j+k):\n",
    "                            if (i+j+k) % l != 0:\n",
    "                                count += 1\n",
    "                            if count == len(range(2,i+j+k)):\n",
    "                                answer +=1\n",
    "    return answer"
   ]
  },
  {
   "cell_type": "markdown",
   "id": "4511dcd7",
   "metadata": {},
   "source": [
    "- 나의 풀이 (실패 23.1 / 100.0)"
   ]
  },
  {
   "cell_type": "code",
   "execution_count": 2,
   "id": "d0e7f3b0",
   "metadata": {},
   "outputs": [],
   "source": [
    "def solution(nums):\n",
    "    answer = 0\n",
    "    sum = []\n",
    "    for i in nums:\n",
    "        for j in nums:\n",
    "            for k in nums:\n",
    "                if i!=j and j!=k and i!=k:\n",
    "                    sum.append(i+j+k)\n",
    "\n",
    "    sum =list(set(sum))\n",
    "    \n",
    "    for m in sum:\n",
    "        print(m)\n",
    "        count = 0\n",
    "        for l in range(2,m):\n",
    "            if m % l != 0:\n",
    "                count += 1\n",
    "        if count == len(range(2,m)):\n",
    "            answer +=1\n",
    "    return answer"
   ]
  },
  {
   "cell_type": "markdown",
   "id": "1ae53ed9",
   "metadata": {},
   "source": [
    "- 나의 풀이 (최종 통과)\n",
    "    - 리스트 원소 3개의 합이 중복되는 경우도 포함되어야 통과 가능\n",
    "    - 첫번째 풀이는 시간초과, 두번째 풀이는 중복을 set 함수로 제거하여 실패"
   ]
  },
  {
   "cell_type": "code",
   "execution_count": 3,
   "id": "455a3242",
   "metadata": {},
   "outputs": [],
   "source": [
    "def solution(nums):\n",
    "    answer = 0\n",
    "    sum = []\n",
    "    for i in nums[:-2]:\n",
    "        for j in nums[nums.index(i)+1:-1]:\n",
    "            if i != j:\n",
    "                for k in nums[nums.index(j)+1:]:\n",
    "                    if i != j:\n",
    "                        sum.append(i+j+k)\n",
    "    for m in sum:\n",
    "        count = 0\n",
    "        for l in range(2,m):\n",
    "            if m % l != 0:\n",
    "                count += 1\n",
    "        if count == m-2:\n",
    "            answer += 1\n",
    "    return answer"
   ]
  },
  {
   "cell_type": "code",
   "execution_count": 4,
   "id": "70ad6820",
   "metadata": {
    "scrolled": false
   },
   "outputs": [
    {
     "data": {
      "text/plain": [
       "1"
      ]
     },
     "execution_count": 4,
     "metadata": {},
     "output_type": "execute_result"
    }
   ],
   "source": [
    "solution([1,2,3,4]) # 입출력 예 #1"
   ]
  },
  {
   "cell_type": "code",
   "execution_count": 5,
   "id": "04cfa3d9",
   "metadata": {},
   "outputs": [
    {
     "data": {
      "text/plain": [
       "4"
      ]
     },
     "execution_count": 5,
     "metadata": {},
     "output_type": "execute_result"
    }
   ],
   "source": [
    "solution([1,2,7,6,4]) # 입출력 예 #2"
   ]
  },
  {
   "cell_type": "markdown",
   "id": "93e20d44",
   "metadata": {},
   "source": [
    "- 다른 사람의 풀이 #1"
   ]
  },
  {
   "cell_type": "code",
   "execution_count": 12,
   "id": "61147872",
   "metadata": {},
   "outputs": [],
   "source": [
    "def solution(nums):\n",
    "    from itertools import combinations as cb\n",
    "    answer = 0\n",
    "    for a in cb(nums, 3): # combinations() : 반복없이 3가지 원소 조합 추출\n",
    "        cand = sum(a)\n",
    "        for j in range(2, cand):\n",
    "            if cand%j==0:\n",
    "                break\n",
    "        else:\n",
    "            answer += 1\n",
    "    return answer"
   ]
  },
  {
   "cell_type": "code",
   "execution_count": null,
   "id": "47cc7be4",
   "metadata": {},
   "outputs": [],
   "source": []
  }
 ],
 "metadata": {
  "kernelspec": {
   "display_name": "Python 3 (ipykernel)",
   "language": "python",
   "name": "python3"
  },
  "language_info": {
   "codemirror_mode": {
    "name": "ipython",
    "version": 3
   },
   "file_extension": ".py",
   "mimetype": "text/x-python",
   "name": "python",
   "nbconvert_exporter": "python",
   "pygments_lexer": "ipython3",
   "version": "3.8.12"
  }
 },
 "nbformat": 4,
 "nbformat_minor": 5
}
