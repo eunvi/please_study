{
 "cells": [
  {
   "cell_type": "markdown",
   "id": "3db2da31",
   "metadata": {},
   "source": [
    "- 나의 풀이"
   ]
  },
  {
   "cell_type": "code",
   "execution_count": 1,
   "id": "a520e7a9",
   "metadata": {},
   "outputs": [],
   "source": [
    "def solution(a, b):\n",
    "    answer = a\n",
    "    while a != b:\n",
    "        if a <=b:\n",
    "            answer += a+1\n",
    "            a += 1\n",
    "        else:\n",
    "            answer += a-1\n",
    "            a += -1\n",
    "    return answer"
   ]
  },
  {
   "cell_type": "code",
   "execution_count": 24,
   "id": "5cb3ccdb",
   "metadata": {},
   "outputs": [
    {
     "data": {
      "text/plain": [
       "12"
      ]
     },
     "execution_count": 24,
     "metadata": {},
     "output_type": "execute_result"
    }
   ],
   "source": [
    "solution(3,5) # 입출력 예 #1"
   ]
  },
  {
   "cell_type": "code",
   "execution_count": 25,
   "id": "6e2a1860",
   "metadata": {},
   "outputs": [
    {
     "data": {
      "text/plain": [
       "3"
      ]
     },
     "execution_count": 25,
     "metadata": {},
     "output_type": "execute_result"
    }
   ],
   "source": [
    "solution(3,3) # 입출력 예 #2"
   ]
  },
  {
   "cell_type": "code",
   "execution_count": 26,
   "id": "d300a76d",
   "metadata": {},
   "outputs": [
    {
     "data": {
      "text/plain": [
       "12"
      ]
     },
     "execution_count": 26,
     "metadata": {},
     "output_type": "execute_result"
    }
   ],
   "source": [
    "solution(5,3) # 입출력 예 #3"
   ]
  },
  {
   "cell_type": "code",
   "execution_count": null,
   "id": "65ef75bc",
   "metadata": {},
   "outputs": [],
   "source": []
  },
  {
   "cell_type": "markdown",
   "id": "4aa90817",
   "metadata": {},
   "source": [
    "- 다른 사람의 풀이 #1"
   ]
  },
  {
   "cell_type": "code",
   "execution_count": 9,
   "id": "8b561d0e",
   "metadata": {},
   "outputs": [],
   "source": [
    "def solution(a, b):\n",
    "    # min(),max() 함수 + range()\n",
    "    return sum(range(min(a,b),max(a,b)+1))"
   ]
  },
  {
   "cell_type": "markdown",
   "id": "83952682",
   "metadata": {},
   "source": [
    "- 다른 사람의 풀이 #2\n",
    "    - 두 정수 사이의 합 공식 : n(x+y)/2\n",
    "    - x : 작은 수, y : 큰 수, n : x와 y 사이의 정수의 개수"
   ]
  },
  {
   "cell_type": "code",
   "execution_count": 23,
   "id": "7a6f1378",
   "metadata": {},
   "outputs": [],
   "source": [
    "def solution(a, b):\n",
    "    return (abs(a-b)+1)*(a+b)//2"
   ]
  },
  {
   "cell_type": "code",
   "execution_count": null,
   "id": "abfece0a",
   "metadata": {},
   "outputs": [],
   "source": []
  }
 ],
 "metadata": {
  "kernelspec": {
   "display_name": "Python 3 (ipykernel)",
   "language": "python",
   "name": "python3"
  },
  "language_info": {
   "codemirror_mode": {
    "name": "ipython",
    "version": 3
   },
   "file_extension": ".py",
   "mimetype": "text/x-python",
   "name": "python",
   "nbconvert_exporter": "python",
   "pygments_lexer": "ipython3",
   "version": "3.8.12"
  }
 },
 "nbformat": 4,
 "nbformat_minor": 5
}
