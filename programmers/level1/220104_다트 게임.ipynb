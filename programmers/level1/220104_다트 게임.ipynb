{
 "cells": [
  {
   "cell_type": "markdown",
   "id": "1801c250",
   "metadata": {},
   "source": [
    "- 나의 풀이"
   ]
  },
  {
   "cell_type": "code",
   "execution_count": 96,
   "id": "b93c230b",
   "metadata": {},
   "outputs": [],
   "source": [
    "def solution(dartResult):\n",
    "    import re\n",
    "    \n",
    "    dict_ = {'S':1,'D':2,'T':3,'*':2,'#':-1}\n",
    "    \n",
    "    string = re.split('[1234567890]',dartResult)\n",
    "    num = re.split('[SDT*#]',dartResult)\n",
    "    \n",
    "    \n",
    "    string = [i for i in string if len(i)>0]\n",
    "    print('string :',string)\n",
    "    num = [i for i in num if len(i)>0]\n",
    "    print('num :',num)\n",
    "    \n",
    "    answer = [0]\n",
    "    \n",
    "    for i in range(len(num)):\n",
    "        a = 0\n",
    "        if len(string[i])>1:\n",
    "            s = string[i]\n",
    "            if s[1] == '*':\n",
    "                answer[i] = answer[i]*2\n",
    "                a += int(num[i])**(dict_[s[0]])*(dict_[s[1]])\n",
    "            else:\n",
    "                a += int(num[i])**(dict_[s[0]])*(dict_[s[1]])\n",
    "\n",
    "        else:\n",
    "            a += int(num[i])**dict_[string[i]]\n",
    "\n",
    "        answer.append(a)\n",
    "    print('answer :',answer)\n",
    "    return sum(answer)"
   ]
  },
  {
   "cell_type": "code",
   "execution_count": 97,
   "id": "4371d8c1",
   "metadata": {},
   "outputs": [
    {
     "name": "stdout",
     "output_type": "stream",
     "text": [
      "string : ['S', 'D*', 'T']\n",
      "num : ['1', '2', '3']\n",
      "answer : [0, 2, 8, 27]\n"
     ]
    },
    {
     "data": {
      "text/plain": [
       "37"
      ]
     },
     "execution_count": 97,
     "metadata": {},
     "output_type": "execute_result"
    }
   ],
   "source": [
    "solution('1S2D*3T') # 입출력 예 #1"
   ]
  },
  {
   "cell_type": "code",
   "execution_count": 98,
   "id": "26697a9c",
   "metadata": {},
   "outputs": [
    {
     "name": "stdout",
     "output_type": "stream",
     "text": [
      "string : ['D', 'S#', 'S']\n",
      "num : ['1', '2', '10']\n",
      "answer : [0, 1, -2, 10]\n"
     ]
    },
    {
     "data": {
      "text/plain": [
       "9"
      ]
     },
     "execution_count": 98,
     "metadata": {},
     "output_type": "execute_result"
    }
   ],
   "source": [
    "solution('1D2S#10S') # 입출력 예 #2"
   ]
  },
  {
   "cell_type": "code",
   "execution_count": 88,
   "id": "a2c950e2",
   "metadata": {},
   "outputs": [
    {
     "name": "stdout",
     "output_type": "stream",
     "text": [
      "string : ['D', 'S', 'T']\n",
      "num : ['1', '2', '0']\n",
      "answer : [0, 1, 2, 0]\n"
     ]
    },
    {
     "data": {
      "text/plain": [
       "3"
      ]
     },
     "execution_count": 88,
     "metadata": {},
     "output_type": "execute_result"
    }
   ],
   "source": [
    "solution('1D2S0T') # 입출력 예 #3"
   ]
  },
  {
   "cell_type": "code",
   "execution_count": 89,
   "id": "094794d3",
   "metadata": {},
   "outputs": [
    {
     "name": "stdout",
     "output_type": "stream",
     "text": [
      "string : ['S*', 'T*', 'S']\n",
      "num : ['1', '2', '3']\n",
      "answer : [0, 4, 16, 3]\n"
     ]
    },
    {
     "data": {
      "text/plain": [
       "23"
      ]
     },
     "execution_count": 89,
     "metadata": {},
     "output_type": "execute_result"
    }
   ],
   "source": [
    "solution('1S*2T*3S') # 입출력 예 #4"
   ]
  },
  {
   "cell_type": "code",
   "execution_count": 90,
   "id": "195890fa",
   "metadata": {},
   "outputs": [
    {
     "name": "stdout",
     "output_type": "stream",
     "text": [
      "string : ['D#', 'S*', 'S']\n",
      "num : ['1', '2', '3']\n",
      "answer : [0, -2, 4, 3]\n"
     ]
    },
    {
     "data": {
      "text/plain": [
       "5"
      ]
     },
     "execution_count": 90,
     "metadata": {},
     "output_type": "execute_result"
    }
   ],
   "source": [
    "solution('1D#2S*3S') # 입출력 예 #5"
   ]
  },
  {
   "cell_type": "code",
   "execution_count": 91,
   "id": "e67aa42c",
   "metadata": {},
   "outputs": [
    {
     "name": "stdout",
     "output_type": "stream",
     "text": [
      "string : ['T', 'D', 'D#']\n",
      "num : ['1', '2', '3']\n",
      "answer : [0, 1, 4, -9]\n"
     ]
    },
    {
     "data": {
      "text/plain": [
       "-4"
      ]
     },
     "execution_count": 91,
     "metadata": {},
     "output_type": "execute_result"
    }
   ],
   "source": [
    "solution('1T2D3D#') # 입출력 예 #6"
   ]
  },
  {
   "cell_type": "code",
   "execution_count": 92,
   "id": "19cc9aa8",
   "metadata": {},
   "outputs": [
    {
     "name": "stdout",
     "output_type": "stream",
     "text": [
      "string : ['D', 'S', 'T*']\n",
      "num : ['1', '2', '3']\n",
      "answer : [0, 1, 4, 54]\n"
     ]
    },
    {
     "data": {
      "text/plain": [
       "59"
      ]
     },
     "execution_count": 92,
     "metadata": {},
     "output_type": "execute_result"
    }
   ],
   "source": [
    "solution('1D2S3T*') # 입출력 예 #7"
   ]
  },
  {
   "cell_type": "code",
   "execution_count": null,
   "id": "b3acebc9",
   "metadata": {},
   "outputs": [],
   "source": []
  },
  {
   "cell_type": "markdown",
   "id": "6b105cc4",
   "metadata": {},
   "source": [
    "- 다른 사람의 풀이 #1"
   ]
  },
  {
   "cell_type": "code",
   "execution_count": 77,
   "id": "6944719f",
   "metadata": {},
   "outputs": [],
   "source": [
    "import re\n",
    "\n",
    "\n",
    "def solution(dartResult):\n",
    "    bonus = {'S' : 1, 'D' : 2, 'T' : 3}\n",
    "    option = {'' : 1, '*' : 2, '#' : -1}\n",
    "     # 정규표현식\n",
    "        # \\d+ : 하나 혹은 그이상 연결된 숫자\n",
    "        # ? : 포함되어 있어도 되고 없어도 됨\n",
    "    p = re.compile('(\\d+)([SDT])([*#]?)')\n",
    "    dart = p.findall(dartResult)\n",
    "    for i in range(len(dart)):\n",
    "        if dart[i][2] == '*' and i > 0:\n",
    "            dart[i-1] *= 2\n",
    "        dart[i] = int(dart[i][0]) ** bonus[dart[i][1]] * option[dart[i][2]]\n",
    "\n",
    "    answer = sum(dart)\n",
    "    return answer"
   ]
  },
  {
   "cell_type": "markdown",
   "id": "15df4244",
   "metadata": {},
   "source": [
    "- 다른 사람의 풀이 #2"
   ]
  },
  {
   "cell_type": "code",
   "execution_count": 93,
   "id": "ed071a82",
   "metadata": {},
   "outputs": [],
   "source": [
    "def solution(dartResult):\n",
    "    point = []\n",
    "    answer = []\n",
    "    # 숫자10은 두자리수이므로 k로 변경 후\n",
    "    dartResult = dartResult.replace('10','k') \n",
    "    # 다시 10으로 되돌리면서 dartResult 원소를 분해했다.\n",
    "    point = ['10' if i == 'k' else i for i in dartResult] \n",
    "\n",
    "    i = -1\n",
    "    sdt = ['S', 'D', 'T']\n",
    "    for j in point:\n",
    "        if j in sdt :\n",
    "            answer[i] = answer[i] ** (sdt.index(j)+1) # 인덱스를 활용해 S,D,T 제곱표현\n",
    "        elif j == '*':\n",
    "            answer[i] = answer[i] * 2\n",
    "            if i != 0 :\n",
    "                answer[i - 1] = answer[i - 1] * 2\n",
    "        elif j == '#':\n",
    "            answer[i] = answer[i] * (-1)\n",
    "        else:\n",
    "            answer.append(int(j))\n",
    "            i += 1\n",
    "    return sum(answer)"
   ]
  },
  {
   "cell_type": "code",
   "execution_count": null,
   "id": "3d12acd5",
   "metadata": {},
   "outputs": [],
   "source": []
  }
 ],
 "metadata": {
  "kernelspec": {
   "display_name": "Python 3 (ipykernel)",
   "language": "python",
   "name": "python3"
  },
  "language_info": {
   "codemirror_mode": {
    "name": "ipython",
    "version": 3
   },
   "file_extension": ".py",
   "mimetype": "text/x-python",
   "name": "python",
   "nbconvert_exporter": "python",
   "pygments_lexer": "ipython3",
   "version": "3.8.12"
  }
 },
 "nbformat": 4,
 "nbformat_minor": 5
}
