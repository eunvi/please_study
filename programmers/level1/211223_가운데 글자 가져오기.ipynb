{
 "cells": [
  {
   "cell_type": "markdown",
   "id": "348c25fe",
   "metadata": {},
   "source": [
    "- 나의 풀이"
   ]
  },
  {
   "cell_type": "code",
   "execution_count": 83,
   "id": "0dd4ea1b",
   "metadata": {},
   "outputs": [],
   "source": [
    "def solution(s):\n",
    "    return s[len(s)//2] if len(s)%2 == 1 else s[len(s)//2-1:len(s)//2+1]"
   ]
  },
  {
   "cell_type": "code",
   "execution_count": 90,
   "id": "f7018193",
   "metadata": {},
   "outputs": [
    {
     "data": {
      "text/plain": [
       "'c'"
      ]
     },
     "execution_count": 90,
     "metadata": {},
     "output_type": "execute_result"
    }
   ],
   "source": [
    "solution(\"abcde\") # 입출력 예 #1"
   ]
  },
  {
   "cell_type": "code",
   "execution_count": 91,
   "id": "f13eecd6",
   "metadata": {},
   "outputs": [
    {
     "data": {
      "text/plain": [
       "'we'"
      ]
     },
     "execution_count": 91,
     "metadata": {},
     "output_type": "execute_result"
    }
   ],
   "source": [
    "solution(\"qwer\") # 입출력 예 #2"
   ]
  },
  {
   "cell_type": "markdown",
   "id": "13e7c46e",
   "metadata": {},
   "source": [
    "- 다른 사람의 풀이 #1"
   ]
  },
  {
   "cell_type": "code",
   "execution_count": 86,
   "id": "5d2cf689",
   "metadata": {},
   "outputs": [],
   "source": [
    "def solution(s):\n",
    "    return s[(len(s)-1)//2:len(s)//2+1]"
   ]
  },
  {
   "cell_type": "markdown",
   "id": "d1a29683",
   "metadata": {},
   "source": [
    "- 다른 사람의 풀이 #2"
   ]
  },
  {
   "cell_type": "code",
   "execution_count": 89,
   "id": "2a004c9a",
   "metadata": {},
   "outputs": [],
   "source": [
    "def solution(s):\n",
    "    a = len(s)\n",
    "    if a % 2 == 0 :\n",
    "        a = (a-2) / 2\n",
    "    else :\n",
    "        a = (a-1) / 2\n",
    "    return s[int(a) : -int(a)]"
   ]
  },
  {
   "cell_type": "code",
   "execution_count": null,
   "id": "c4936910",
   "metadata": {},
   "outputs": [],
   "source": []
  }
 ],
 "metadata": {
  "kernelspec": {
   "display_name": "Python 3 (ipykernel)",
   "language": "python",
   "name": "python3"
  },
  "language_info": {
   "codemirror_mode": {
    "name": "ipython",
    "version": 3
   },
   "file_extension": ".py",
   "mimetype": "text/x-python",
   "name": "python",
   "nbconvert_exporter": "python",
   "pygments_lexer": "ipython3",
   "version": "3.8.12"
  }
 },
 "nbformat": 4,
 "nbformat_minor": 5
}
