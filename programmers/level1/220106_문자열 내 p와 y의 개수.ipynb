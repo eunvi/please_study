{
 "cells": [
  {
   "cell_type": "markdown",
   "id": "abd4ac03",
   "metadata": {},
   "source": [
    "- 나의 풀이"
   ]
  },
  {
   "cell_type": "code",
   "execution_count": 20,
   "id": "7e01681a",
   "metadata": {},
   "outputs": [],
   "source": [
    "def solution(s):\n",
    "    return s.lower().count('p') == s.lower().count('y')"
   ]
  },
  {
   "cell_type": "code",
   "execution_count": 27,
   "id": "8003d0a1",
   "metadata": {},
   "outputs": [
    {
     "data": {
      "text/plain": [
       "True"
      ]
     },
     "execution_count": 27,
     "metadata": {},
     "output_type": "execute_result"
    }
   ],
   "source": [
    "solution(\"pPoooyY\") # 입출력 예 #1"
   ]
  },
  {
   "cell_type": "code",
   "execution_count": 28,
   "id": "13198604",
   "metadata": {},
   "outputs": [
    {
     "data": {
      "text/plain": [
       "False"
      ]
     },
     "execution_count": 28,
     "metadata": {},
     "output_type": "execute_result"
    }
   ],
   "source": [
    "solution(\"Pyy\") # 입출력 예 #2"
   ]
  },
  {
   "cell_type": "markdown",
   "id": "9b3c1768",
   "metadata": {},
   "source": [
    "- 다른 사람의 풀이 #1"
   ]
  },
  {
   "cell_type": "code",
   "execution_count": 40,
   "id": "393741be",
   "metadata": {},
   "outputs": [],
   "source": [
    "from collections import Counter # 리스트의 원소들이 각각 몇 개 씩 존재하는지 카운팅\n",
    "\n",
    "def numPY(s):\n",
    "    c = Counter(s.lower()) # Counter({'p': 2, 'o': 3, 'y': 2})\n",
    "    return c['y'] == c['p'] "
   ]
  },
  {
   "cell_type": "code",
   "execution_count": null,
   "id": "06d1ffc0",
   "metadata": {},
   "outputs": [],
   "source": []
  }
 ],
 "metadata": {
  "kernelspec": {
   "display_name": "Python 3 (ipykernel)",
   "language": "python",
   "name": "python3"
  },
  "language_info": {
   "codemirror_mode": {
    "name": "ipython",
    "version": 3
   },
   "file_extension": ".py",
   "mimetype": "text/x-python",
   "name": "python",
   "nbconvert_exporter": "python",
   "pygments_lexer": "ipython3",
   "version": "3.8.12"
  }
 },
 "nbformat": 4,
 "nbformat_minor": 5
}
