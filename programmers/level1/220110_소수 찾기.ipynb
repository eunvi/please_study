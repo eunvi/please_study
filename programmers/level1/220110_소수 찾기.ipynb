{
 "cells": [
  {
   "cell_type": "markdown",
   "id": "5f38ed75",
   "metadata": {},
   "source": [
    "- 나의 풀이(시간초과 오답, 정확성: 56.3, 효율성: 0.0, 합계: 56.3 / 100.0)"
   ]
  },
  {
   "cell_type": "code",
   "execution_count": 1,
   "id": "f1a45c04",
   "metadata": {},
   "outputs": [],
   "source": [
    "def solution(n):\n",
    "    answer = []\n",
    "    for i in range(1,n+1):\n",
    "        count = 0\n",
    "        for j in range(1,i):\n",
    "            if i%j != 0:\n",
    "                count += 1\n",
    "        if count == i-2:\n",
    "            answer.append(i)\n",
    "    return len(answer)"
   ]
  },
  {
   "cell_type": "markdown",
   "id": "c4ae255b",
   "metadata": {},
   "source": [
    "- 나의 풀이(시간초과 오답, 정확성: 56.3, 효율성: 0.0, 합계: 56.3 / 100.0)"
   ]
  },
  {
   "cell_type": "code",
   "execution_count": 2,
   "id": "7e4c3fff",
   "metadata": {},
   "outputs": [],
   "source": [
    "def solution(n):\n",
    "    answer = 0\n",
    "    for i in range(2,n+1):\n",
    "        for j in range(2,i//2+1):\n",
    "            if i%j == 0:\n",
    "                break\n",
    "        else:\n",
    "            answer += 1\n",
    "    return answer"
   ]
  },
  {
   "cell_type": "markdown",
   "id": "206f4d51",
   "metadata": {},
   "source": [
    "- 참고한 풀이\n",
    "    - 에라토스테네스의 체(소수를 판별하는 알고리즘)\n",
    "        1. 2부터 소수를 구하고자 하는 구간의 모든 수를 나열한다.\n",
    "        2. 2는 소수이므로 남겨두고 자기 자신을 제외한 2의 배수를 모두 지운다.\n",
    "        3. 남아있는 수 가운데 3은 소수이므로 남겨두고 자기 자신을 제외한 3의 배수를 모두 지운다.\n",
    "        4. 남아있는 수 가운데 5는 소수이므로 남겨두고 자기 자신을 제외한 5의 배수를 모두 지운다.\n",
    "        5. 위의 과정을 반복하면 구하는 구간의 모든 소수가 남는다."
   ]
  },
  {
   "cell_type": "code",
   "execution_count": 16,
   "id": "d636996b",
   "metadata": {},
   "outputs": [],
   "source": [
    "def solution(n):\n",
    "    num=set(range(2,n+1))\n",
    "\n",
    "    for i in range(2,n+1):\n",
    "        if i in num:\n",
    "            num-=set(range(2*i,n+1,i)) # 차집합 활용 (집합 자료형 set함수)\n",
    "    return len(num)"
   ]
  },
  {
   "cell_type": "code",
   "execution_count": 17,
   "id": "0030b3e1",
   "metadata": {},
   "outputs": [
    {
     "data": {
      "text/plain": [
       "4"
      ]
     },
     "execution_count": 17,
     "metadata": {},
     "output_type": "execute_result"
    }
   ],
   "source": [
    "solution(10) # 입출력 예 #1"
   ]
  },
  {
   "cell_type": "code",
   "execution_count": 18,
   "id": "7ce0dba9",
   "metadata": {},
   "outputs": [
    {
     "data": {
      "text/plain": [
       "3"
      ]
     },
     "execution_count": 18,
     "metadata": {},
     "output_type": "execute_result"
    }
   ],
   "source": [
    "solution(5) # 입출력 예 #2"
   ]
  },
  {
   "cell_type": "code",
   "execution_count": null,
   "id": "421b9fc8",
   "metadata": {},
   "outputs": [],
   "source": []
  }
 ],
 "metadata": {
  "kernelspec": {
   "display_name": "Python 3 (ipykernel)",
   "language": "python",
   "name": "python3"
  },
  "language_info": {
   "codemirror_mode": {
    "name": "ipython",
    "version": 3
   },
   "file_extension": ".py",
   "mimetype": "text/x-python",
   "name": "python",
   "nbconvert_exporter": "python",
   "pygments_lexer": "ipython3",
   "version": "3.8.12"
  }
 },
 "nbformat": 4,
 "nbformat_minor": 5
}
