{
 "cells": [
  {
   "cell_type": "markdown",
   "id": "3831dddc",
   "metadata": {},
   "source": [
    "- 나의 풀이"
   ]
  },
  {
   "cell_type": "code",
   "execution_count": 1,
   "id": "03118a75",
   "metadata": {},
   "outputs": [],
   "source": [
    "def solution(s, n):\n",
    "    \n",
    "    answer = \"\"\n",
    "    \n",
    "    ABC = ['Z','A','B','C','D','E','F','G','H','I','J','K','L','M','N','O','P','Q','R','S','T','U','V','W','X','Y']\n",
    "    abc = ['z','a','b','c','d','e','f','g','h','i','j','k','l','m','n','o','p','q','r','s','t','u','v','w','x','y']\n",
    "    \n",
    "    for i in range(0,len(s)):\n",
    "        if s[i] in ABC:\n",
    "            answer += ABC[int((ABC.index(s[i])+n)%26)]\n",
    "        elif s[i] in abc:\n",
    "            answer += abc[int((abc.index(s[i])+n)%26)]\n",
    "        else:\n",
    "            answer += ' '\n",
    "            \n",
    "    return answer"
   ]
  },
  {
   "cell_type": "code",
   "execution_count": 12,
   "id": "9f9a9555",
   "metadata": {},
   "outputs": [
    {
     "data": {
      "text/plain": [
       "'BC'"
      ]
     },
     "execution_count": 12,
     "metadata": {},
     "output_type": "execute_result"
    }
   ],
   "source": [
    "solution(\"AB\",1) # 입출력 예 #1"
   ]
  },
  {
   "cell_type": "code",
   "execution_count": 13,
   "id": "09fc294a",
   "metadata": {},
   "outputs": [
    {
     "data": {
      "text/plain": [
       "'a'"
      ]
     },
     "execution_count": 13,
     "metadata": {},
     "output_type": "execute_result"
    }
   ],
   "source": [
    "solution(\"z\",1) # 입출력 예 #2"
   ]
  },
  {
   "cell_type": "code",
   "execution_count": 14,
   "id": "c14970bc",
   "metadata": {},
   "outputs": [
    {
     "data": {
      "text/plain": [
       "'e F d'"
      ]
     },
     "execution_count": 14,
     "metadata": {},
     "output_type": "execute_result"
    }
   ],
   "source": [
    "solution(\"a B z\",4) # 입출력 예 #3"
   ]
  },
  {
   "cell_type": "code",
   "execution_count": null,
   "id": "f934d26f",
   "metadata": {},
   "outputs": [],
   "source": []
  },
  {
   "cell_type": "markdown",
   "id": "bfec1bb6",
   "metadata": {},
   "source": [
    "- 다른 사람의 풀이 #1\n",
    "    - ord() 함수 : 특정한 한 문자를 아스키 코드 값으로 변환해 주는 함수\n",
    "    - chr() 함수 : 아스키 코드 값을 문자로 변환해 주는 함수"
   ]
  },
  {
   "cell_type": "code",
   "execution_count": 7,
   "id": "d8c476a1",
   "metadata": {},
   "outputs": [],
   "source": [
    "def solution(s, n):\n",
    "    s = list(s)\n",
    "    for i in range(len(s)):\n",
    "        if s[i].isupper():\n",
    "            s[i]=chr((ord(s[i])-ord('A')+ n)%26+ord('A'))\n",
    "        elif s[i].islower():\n",
    "            s[i]=chr((ord(s[i])-ord('a')+ n)%26+ord('a'))\n",
    "\n",
    "    return \"\".join(s)"
   ]
  },
  {
   "cell_type": "markdown",
   "id": "4f85bbdb",
   "metadata": {},
   "source": [
    "- 다른 사람의 풀이 #2"
   ]
  },
  {
   "cell_type": "code",
   "execution_count": 17,
   "id": "1d6d0b31",
   "metadata": {},
   "outputs": [],
   "source": [
    "def solution(s, n):\n",
    "    lower_list = \"abcdefghijklmnopqrstuvwxyz\"\n",
    "    upper_list = \"ABCDEFGHIJKLMNOPQRSTUVWXYZ\"\n",
    "\n",
    "    result = []\n",
    "\n",
    "    for i in s:\n",
    "        if i == \" \":\n",
    "            result.append(\" \")\n",
    "        elif i.islower() is True:\n",
    "            new_ = lower_list.find(i) + n\n",
    "            result.append(lower_list[new_ % 26])\n",
    "        else:\n",
    "            new_ = upper_list.find(i) + n\n",
    "            result.append(upper_list[new_ % 26])\n",
    "    return \"\".join(result)"
   ]
  },
  {
   "cell_type": "code",
   "execution_count": null,
   "id": "79e44f4f",
   "metadata": {},
   "outputs": [],
   "source": []
  }
 ],
 "metadata": {
  "kernelspec": {
   "display_name": "Python 3 (ipykernel)",
   "language": "python",
   "name": "python3"
  },
  "language_info": {
   "codemirror_mode": {
    "name": "ipython",
    "version": 3
   },
   "file_extension": ".py",
   "mimetype": "text/x-python",
   "name": "python",
   "nbconvert_exporter": "python",
   "pygments_lexer": "ipython3",
   "version": "3.8.12"
  }
 },
 "nbformat": 4,
 "nbformat_minor": 5
}
