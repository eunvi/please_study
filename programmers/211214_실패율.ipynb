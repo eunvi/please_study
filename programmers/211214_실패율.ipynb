{
 "cells": [
  {
   "cell_type": "markdown",
   "id": "b2c04c68",
   "metadata": {},
   "source": [
    "- 나의 풀이 (런타임 에러 70.4 / 100.0)"
   ]
  },
  {
   "cell_type": "code",
   "execution_count": 138,
   "id": "31fed9b3",
   "metadata": {},
   "outputs": [],
   "source": [
    "def solution(N, stages):\n",
    "    \n",
    "    fail = {}\n",
    "    all = len(stages)\n",
    "    \n",
    "    for i in range(1,N+1):\n",
    "        fail[i] = stages.count(i)/(all)\n",
    "        all -= stages.count(i)\n",
    "        \n",
    "    fail = dict(sorted(fail.items(), key = lambda item: item[1], reverse = True))\n",
    "    \n",
    "    return list(fail.keys())"
   ]
  },
  {
   "cell_type": "markdown",
   "id": "0556d51f",
   "metadata": {},
   "source": [
    "- 나의 풀이(최종 통과)\n",
    "    - 실패율 계산할 때, 스테이지에 도달한 플레이어 수가 0명이면 런타임 에러가 발생한다."
   ]
  },
  {
   "cell_type": "code",
   "execution_count": 193,
   "id": "56f12e68",
   "metadata": {},
   "outputs": [],
   "source": [
    "def solution(N, stages):\n",
    "\n",
    "    fail = {}\n",
    "    all = len(stages)\n",
    "    \n",
    "    for i in range(1,N+1):\n",
    "        if all == 0:\n",
    "            fail[i] = 0\n",
    "        else:\n",
    "            fail[i] = stages.count(i)/(all)\n",
    "            all -= stages.count(i)\n",
    "        \n",
    "    fail= sorted(fail, key=fail.get, reverse=True)\n",
    "\n",
    "    return fail"
   ]
  },
  {
   "cell_type": "code",
   "execution_count": 200,
   "id": "7bf820ac",
   "metadata": {},
   "outputs": [
    {
     "data": {
      "text/plain": [
       "[3, 4, 2, 1, 5]"
      ]
     },
     "execution_count": 200,
     "metadata": {},
     "output_type": "execute_result"
    }
   ],
   "source": [
    "solution(5,[2, 1, 2, 6, 2, 4, 3, 3]) # 입출력 예 #1"
   ]
  },
  {
   "cell_type": "code",
   "execution_count": 201,
   "id": "5e0be0f1",
   "metadata": {},
   "outputs": [
    {
     "data": {
      "text/plain": [
       "[4, 1, 2, 3]"
      ]
     },
     "execution_count": 201,
     "metadata": {},
     "output_type": "execute_result"
    }
   ],
   "source": [
    "solution(4,[4,4,4,4,4]) # 입출력 예 #2"
   ]
  },
  {
   "cell_type": "markdown",
   "id": "15af64ee",
   "metadata": {},
   "source": [
    "- 다른 사람의 풀이 #1"
   ]
  },
  {
   "cell_type": "code",
   "execution_count": 196,
   "id": "d4548412",
   "metadata": {},
   "outputs": [],
   "source": [
    "def solution(N, stages):\n",
    "    result = {}\n",
    "    denominator = len(stages)\n",
    "    for stage in range(1, N+1):\n",
    "        if denominator != 0:\n",
    "            count = stages.count(stage)\n",
    "            result[stage] = count / denominator\n",
    "            denominator -= count\n",
    "        else:\n",
    "            result[stage] = 0\n",
    "    return sorted(result, key=lambda x : result[x], reverse=True)"
   ]
  },
  {
   "cell_type": "markdown",
   "id": "4fd80548",
   "metadata": {},
   "source": [
    "- 다른 사람의 풀이 #2"
   ]
  },
  {
   "cell_type": "code",
   "execution_count": 199,
   "id": "289707b2",
   "metadata": {},
   "outputs": [],
   "source": [
    "def solution(N, stages):\n",
    "    fail = {}\n",
    "    for i in range(1,N+1):\n",
    "        try:\n",
    "            fail_ = len([a for a in stages if a==i])/len([a for a in stages if a>=i])\n",
    "        except:\n",
    "            fail_ = 0\n",
    "        fail[i]=fail_\n",
    "    answer = sorted(fail, key=fail.get, reverse=True)\n",
    "    return answer"
   ]
  },
  {
   "cell_type": "code",
   "execution_count": null,
   "id": "8edbd4b1",
   "metadata": {},
   "outputs": [],
   "source": []
  }
 ],
 "metadata": {
  "kernelspec": {
   "display_name": "Python 3 (ipykernel)",
   "language": "python",
   "name": "python3"
  },
  "language_info": {
   "codemirror_mode": {
    "name": "ipython",
    "version": 3
   },
   "file_extension": ".py",
   "mimetype": "text/x-python",
   "name": "python",
   "nbconvert_exporter": "python",
   "pygments_lexer": "ipython3",
   "version": "3.8.12"
  }
 },
 "nbformat": 4,
 "nbformat_minor": 5
}
