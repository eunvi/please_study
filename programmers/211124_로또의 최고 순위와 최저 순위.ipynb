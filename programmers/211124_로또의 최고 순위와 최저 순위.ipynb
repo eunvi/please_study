{
 "cells": [
  {
   "cell_type": "markdown",
   "id": "1301b144",
   "metadata": {},
   "source": [
    "- 나의 풀이"
   ]
  },
  {
   "cell_type": "code",
   "execution_count": 18,
   "id": "a470cbfb",
   "metadata": {},
   "outputs": [],
   "source": [
    "def solution(lottos, win_nums):\n",
    "    cnt_corr = 0 # 당첨 가능한 최저 개수\n",
    "    cnt_zero = 0 # 알아볼 수 없는 번호\n",
    "    for i in range(len(lottos)):\n",
    "        if lottos[i] in win_nums:\n",
    "            cnt_corr += 1\n",
    "        if lottos[i] == 0:\n",
    "            cnt_zero += 1\n",
    "            \n",
    "    total = cnt_corr + cnt_zero # 당첨 가능한 최고 개수\n",
    "\n",
    "    rank = {6:1,5:2,4:3,3:4,2:5,1:6,0:6} # 순위와 당첨 내용 딕셔너리\n",
    " \n",
    "    answer = [rank[total],rank[cnt_corr]]\n",
    "    \n",
    "    return answer"
   ]
  },
  {
   "cell_type": "code",
   "execution_count": 19,
   "id": "f6b36c41",
   "metadata": {},
   "outputs": [
    {
     "data": {
      "text/plain": [
       "[3, 5]"
      ]
     },
     "execution_count": 19,
     "metadata": {},
     "output_type": "execute_result"
    }
   ],
   "source": [
    "solution([44, 1, 0, 0, 31, 25], [31, 10, 45, 1, 6, 19]) # 입출력 예 #1"
   ]
  },
  {
   "cell_type": "code",
   "execution_count": 20,
   "id": "76935616",
   "metadata": {},
   "outputs": [
    {
     "data": {
      "text/plain": [
       "[1, 6]"
      ]
     },
     "execution_count": 20,
     "metadata": {},
     "output_type": "execute_result"
    }
   ],
   "source": [
    "solution([0, 0, 0, 0, 0, 0], [38, 19, 20, 40, 15, 25]) # 입출력 예 #2"
   ]
  },
  {
   "cell_type": "code",
   "execution_count": 21,
   "id": "eff66f3d",
   "metadata": {},
   "outputs": [
    {
     "data": {
      "text/plain": [
       "[1, 1]"
      ]
     },
     "execution_count": 21,
     "metadata": {},
     "output_type": "execute_result"
    }
   ],
   "source": [
    "solution([45, 4, 35, 20, 3, 9], [20, 9, 3, 45, 4, 35]) # 입출력 예 #3"
   ]
  },
  {
   "cell_type": "code",
   "execution_count": null,
   "id": "80a3c85b",
   "metadata": {},
   "outputs": [],
   "source": []
  },
  {
   "cell_type": "markdown",
   "id": "3fe2c5b1",
   "metadata": {},
   "source": [
    "- 다른사람의 풀이 #1"
   ]
  },
  {
   "cell_type": "code",
   "execution_count": null,
   "id": "05607d8d",
   "metadata": {},
   "outputs": [],
   "source": [
    "def solution(lottos, win_nums):\n",
    "\n",
    "    rank=[6,6,5,4,3,2,1] # 딕셔너리 쓰지않고 순서대로 당첨 내용 리스트로!\n",
    "\n",
    "    cnt_0 = lottos.count(0) # 찾고자 하는 항목이 파이썬의 리스트에 몇개나 들어있는지 확인하는 count 함수\n",
    "    ans = 0\n",
    "    for x in win_nums:\n",
    "        if x in lottos:\n",
    "            ans += 1\n",
    "    return rank[cnt_0 + ans],rank[ans]"
   ]
  },
  {
   "cell_type": "markdown",
   "id": "faf4f6a0",
   "metadata": {},
   "source": [
    "- 다른사람의 풀이 #2"
   ]
  },
  {
   "cell_type": "code",
   "execution_count": null,
   "id": "089d9320",
   "metadata": {},
   "outputs": [],
   "source": [
    "def solution(lottos, win_nums):\n",
    "    rank = {\n",
    "        0: 6,\n",
    "        1: 6,\n",
    "        2: 5,\n",
    "        3: 4,\n",
    "        4: 3,\n",
    "        5: 2,\n",
    "        6: 1\n",
    "    }\n",
    "    # 집합(set)\n",
    "    # set 내부 원소의 교집합(&)을 활용하여 일치하는 숫자 개수(len) 확인\n",
    "    return [rank[len(set(lottos) & set(win_nums)) + lottos.count(0)], rank[len(set(lottos) & set(win_nums))]]"
   ]
  }
 ],
 "metadata": {
  "kernelspec": {
   "display_name": "Python 3 (ipykernel)",
   "language": "python",
   "name": "python3"
  },
  "language_info": {
   "codemirror_mode": {
    "name": "ipython",
    "version": 3
   },
   "file_extension": ".py",
   "mimetype": "text/x-python",
   "name": "python",
   "nbconvert_exporter": "python",
   "pygments_lexer": "ipython3",
   "version": "3.8.12"
  }
 },
 "nbformat": 4,
 "nbformat_minor": 5
}
