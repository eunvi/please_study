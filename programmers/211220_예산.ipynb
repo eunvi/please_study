{
 "cells": [
  {
   "cell_type": "markdown",
   "id": "eec6822d",
   "metadata": {},
   "source": [
    "- 나의 풀이"
   ]
  },
  {
   "cell_type": "code",
   "execution_count": 30,
   "id": "9111b18a",
   "metadata": {},
   "outputs": [],
   "source": [
    "def solution(d, budget):\n",
    "    d_sum = 0 # 배열 d의 작은 원소부터 합해 나갈 변수\n",
    "    answer = 0 # 지원할 수 있는 부서의 수\n",
    "    for i in sorted(d): # 배열 d를 오름차순으로 정렬\n",
    "        if d_sum+i <= budget:\n",
    "            d_sum += i\n",
    "            answer += 1\n",
    "        else:\n",
    "            d_sum += i\n",
    "    return answer"
   ]
  },
  {
   "cell_type": "code",
   "execution_count": 37,
   "id": "4cc71389",
   "metadata": {},
   "outputs": [
    {
     "data": {
      "text/plain": [
       "3"
      ]
     },
     "execution_count": 37,
     "metadata": {},
     "output_type": "execute_result"
    }
   ],
   "source": [
    "solution([1,3,2,5,4],9) # 입출력 예 #1"
   ]
  },
  {
   "cell_type": "code",
   "execution_count": 38,
   "id": "93f68e80",
   "metadata": {},
   "outputs": [
    {
     "data": {
      "text/plain": [
       "4"
      ]
     },
     "execution_count": 38,
     "metadata": {},
     "output_type": "execute_result"
    }
   ],
   "source": [
    "solution([2,2,3,3],10) # 입출력 예 #2"
   ]
  },
  {
   "cell_type": "markdown",
   "id": "5c075828",
   "metadata": {},
   "source": [
    "- 다른 사람의 풀이 #1"
   ]
  },
  {
   "cell_type": "code",
   "execution_count": 33,
   "id": "602ae936",
   "metadata": {},
   "outputs": [],
   "source": [
    "def solution(d, budget):\n",
    "    d.sort()\n",
    "    while budget < sum(d): # d를 모두 더하고 budget보다 작아질 때까지 맨 끝자리 원소 제거(pop)\n",
    "        d.pop()\n",
    "    return len(d)"
   ]
  },
  {
   "cell_type": "markdown",
   "id": "825725b2",
   "metadata": {},
   "source": [
    "- 다른 사람의 풀이 #2"
   ]
  },
  {
   "cell_type": "code",
   "execution_count": 36,
   "id": "5432eeba",
   "metadata": {},
   "outputs": [],
   "source": [
    "def solution(d, budget):\n",
    "    d.sort()\n",
    "    cnt = 0\n",
    "    for i in d :\n",
    "        budget -= i\n",
    "        if budget < 0 :\n",
    "               break\n",
    "        cnt += 1\n",
    "    answer = cnt\n",
    "    return answer"
   ]
  },
  {
   "cell_type": "code",
   "execution_count": null,
   "id": "42673eda",
   "metadata": {},
   "outputs": [],
   "source": []
  }
 ],
 "metadata": {
  "kernelspec": {
   "display_name": "Python 3 (ipykernel)",
   "language": "python",
   "name": "python3"
  },
  "language_info": {
   "codemirror_mode": {
    "name": "ipython",
    "version": 3
   },
   "file_extension": ".py",
   "mimetype": "text/x-python",
   "name": "python",
   "nbconvert_exporter": "python",
   "pygments_lexer": "ipython3",
   "version": "3.8.12"
  }
 },
 "nbformat": 4,
 "nbformat_minor": 5
}
