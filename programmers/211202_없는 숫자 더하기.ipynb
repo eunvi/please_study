{
 "cells": [
  {
   "cell_type": "markdown",
   "id": "8a230988",
   "metadata": {},
   "source": [
    "- 나의 풀이 #1"
   ]
  },
  {
   "cell_type": "code",
   "execution_count": 22,
   "id": "83e59f7e",
   "metadata": {},
   "outputs": [],
   "source": [
    "def solution(numbers):\n",
    "    answer = -1\n",
    "    all_num = [0,1,2,3,4,5,6,7,8,9]\n",
    "    complement = list(set(all_num).difference(numbers))\n",
    "    answer += sum(complement) + 1\n",
    "    return answer"
   ]
  },
  {
   "cell_type": "code",
   "execution_count": 23,
   "id": "e22e660a",
   "metadata": {},
   "outputs": [
    {
     "data": {
      "text/plain": [
       "14"
      ]
     },
     "execution_count": 23,
     "metadata": {},
     "output_type": "execute_result"
    }
   ],
   "source": [
    "solution([1,2,3,4,6,7,8,0]) # 입출력 예 #1"
   ]
  },
  {
   "cell_type": "markdown",
   "id": "56aa2ffa",
   "metadata": {},
   "source": [
    "- 나의 풀이 #2"
   ]
  },
  {
   "cell_type": "code",
   "execution_count": 90,
   "id": "9679dec3",
   "metadata": {},
   "outputs": [],
   "source": [
    "def solution(numbers):\n",
    "    answer = -1\n",
    "    result = list(map(lambda i:i if i not in numbers else 0,range(10)))\n",
    "    answer += sum(result) + 1\n",
    "    return answer"
   ]
  },
  {
   "cell_type": "code",
   "execution_count": 91,
   "id": "375f9725",
   "metadata": {},
   "outputs": [
    {
     "data": {
      "text/plain": [
       "14"
      ]
     },
     "execution_count": 91,
     "metadata": {},
     "output_type": "execute_result"
    }
   ],
   "source": [
    "solution([1,2,3,4,6,7,8,0]) # 입출력 예 #1"
   ]
  },
  {
   "cell_type": "code",
   "execution_count": null,
   "id": "f262106c",
   "metadata": {},
   "outputs": [],
   "source": []
  },
  {
   "cell_type": "markdown",
   "id": "e126e2b6",
   "metadata": {},
   "source": [
    "- 다른 사람의 풀이 #1"
   ]
  },
  {
   "cell_type": "code",
   "execution_count": 92,
   "id": "2ab971ed",
   "metadata": {},
   "outputs": [],
   "source": [
    "def solution(numbers):\n",
    "    return 45 - sum(numbers)"
   ]
  },
  {
   "cell_type": "code",
   "execution_count": null,
   "id": "8789c0f5",
   "metadata": {},
   "outputs": [],
   "source": []
  },
  {
   "cell_type": "markdown",
   "id": "aca75cec",
   "metadata": {},
   "source": [
    "- 다른 사람의 풀이 #2"
   ]
  },
  {
   "cell_type": "code",
   "execution_count": 94,
   "id": "332adb70",
   "metadata": {},
   "outputs": [],
   "source": [
    "solution = lambda x: sum(range(10)) - sum(x)"
   ]
  },
  {
   "cell_type": "code",
   "execution_count": null,
   "id": "d569400a",
   "metadata": {},
   "outputs": [],
   "source": []
  }
 ],
 "metadata": {
  "kernelspec": {
   "display_name": "Python 3 (ipykernel)",
   "language": "python",
   "name": "python3"
  },
  "language_info": {
   "codemirror_mode": {
    "name": "ipython",
    "version": 3
   },
   "file_extension": ".py",
   "mimetype": "text/x-python",
   "name": "python",
   "nbconvert_exporter": "python",
   "pygments_lexer": "ipython3",
   "version": "3.8.12"
  }
 },
 "nbformat": 4,
 "nbformat_minor": 5
}
