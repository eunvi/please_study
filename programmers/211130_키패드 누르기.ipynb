{
 "cells": [
  {
   "cell_type": "markdown",
   "id": "a5f286c1",
   "metadata": {},
   "source": [
    "- 나의 풀이"
   ]
  },
  {
   "cell_type": "code",
   "execution_count": 95,
   "id": "8da57fc0",
   "metadata": {},
   "outputs": [],
   "source": [
    "def solution(numbers, hand):\n",
    "    answer = ''\n",
    "    \n",
    "    keypad = [[4,2],[1,1],[1,2],[1,3],[2,1],[2,2],[2,3],[3,1],[3,2],[3,3]]\n",
    "    left_number = [4,1]\n",
    "    right_number = [4,3]\n",
    "    \n",
    "    for i in numbers:\n",
    "        if i in [1,4,7]:\n",
    "            answer += 'L'\n",
    "            left_number = keypad[i]\n",
    "            \n",
    "        elif i in [3,6,9]:\n",
    "            answer += 'R'\n",
    "            right_number = keypad[i]\n",
    "\n",
    "        else:\n",
    "            if answer == '':\n",
    "                if hand == 'left':\n",
    "                    answer += 'L'\n",
    "                    left_number = keypad[i]\n",
    "                else:\n",
    "                    answer += 'R'\n",
    "                    right_number = keypad[i]\n",
    "\n",
    "            else:\n",
    "                left_dist = sum([abs(x-y) for x,y in zip(keypad[i],left_number)])\n",
    "                right_dist = sum([abs(x-y) for x,y in zip(keypad[i],right_number)])\n",
    "                \n",
    "                if left_dist < right_dist:\n",
    "                    answer += 'L'\n",
    "                    left_number = keypad[i]\n",
    "                elif left_dist > right_dist:\n",
    "                    answer += 'R'\n",
    "                    right_number = keypad[i]\n",
    "                else:\n",
    "                    if hand == 'left':\n",
    "                        answer += 'L'\n",
    "                        left_number = keypad[i]\n",
    "                    else:\n",
    "                        answer += 'R'\n",
    "                        right_number = keypad[i]\n",
    "    \n",
    "    return answer"
   ]
  },
  {
   "cell_type": "code",
   "execution_count": 96,
   "id": "6693613e",
   "metadata": {},
   "outputs": [
    {
     "data": {
      "text/plain": [
       "'LRLLLRLLRRL'"
      ]
     },
     "execution_count": 96,
     "metadata": {},
     "output_type": "execute_result"
    }
   ],
   "source": [
    "solution([1, 3, 4, 5, 8, 2, 1, 4, 5, 9, 5],\"right\") # 입출력 예 #1"
   ]
  },
  {
   "cell_type": "code",
   "execution_count": 97,
   "id": "59b2d1fb",
   "metadata": {},
   "outputs": [
    {
     "data": {
      "text/plain": [
       "'LRLLRRLLLRR'"
      ]
     },
     "execution_count": 97,
     "metadata": {},
     "output_type": "execute_result"
    }
   ],
   "source": [
    "solution([7, 0, 8, 2, 8, 3, 1, 5, 7, 6, 2],\"left\") # 입출력 예 #2"
   ]
  },
  {
   "cell_type": "code",
   "execution_count": 98,
   "id": "7b861dc5",
   "metadata": {},
   "outputs": [
    {
     "data": {
      "text/plain": [
       "'LLRLLRLLRL'"
      ]
     },
     "execution_count": 98,
     "metadata": {},
     "output_type": "execute_result"
    }
   ],
   "source": [
    "solution([1, 2, 3, 4, 5, 6, 7, 8, 9, 0],\"right\") # 입출력 예 #3"
   ]
  },
  {
   "cell_type": "code",
   "execution_count": null,
   "id": "03deeb4d",
   "metadata": {},
   "outputs": [],
   "source": []
  },
  {
   "cell_type": "markdown",
   "id": "c0fe5ddf",
   "metadata": {},
   "source": [
    "- 다른 사람의 풀이 #1"
   ]
  },
  {
   "cell_type": "code",
   "execution_count": 99,
   "id": "9e9736b1",
   "metadata": {},
   "outputs": [],
   "source": [
    "def solution(numbers, hand):\n",
    "    answer = ''\n",
    "    key_dict = {1:(0,0),2:(0,1),3:(0,2),\n",
    "                4:(1,0),5:(1,1),6:(1,2),\n",
    "                7:(2,0),8:(2,1),9:(2,2),\n",
    "                '*':(3,0),0:(3,1),'#':(3,2)}\n",
    "\n",
    "    left = [1,4,7]\n",
    "    right = [3,6,9]\n",
    "    lhand = '*'\n",
    "    rhand = '#'\n",
    "    for i in numbers:\n",
    "        if i in left:\n",
    "            answer += 'L'\n",
    "            lhand = i\n",
    "        elif i in right:\n",
    "            answer += 'R'\n",
    "            rhand = i\n",
    "        else:\n",
    "            curPos = key_dict[i]\n",
    "            lPos = key_dict[lhand]\n",
    "            rPos = key_dict[rhand]\n",
    "            ldist = abs(curPos[0]-lPos[0]) + abs(curPos[1]-lPos[1])\n",
    "            rdist = abs(curPos[0]-rPos[0]) + abs(curPos[1]-rPos[1])\n",
    "\n",
    "            if ldist < rdist:\n",
    "                answer += 'L'\n",
    "                lhand = i\n",
    "            elif ldist > rdist:\n",
    "                answer += 'R'\n",
    "                rhand = i\n",
    "            else:\n",
    "                if hand == 'left':\n",
    "                    answer += 'L'\n",
    "                    lhand = i\n",
    "                else:\n",
    "                    answer += 'R'\n",
    "                    rhand = i\n",
    "\n",
    "    return answer"
   ]
  },
  {
   "cell_type": "markdown",
   "id": "7cf00a7c",
   "metadata": {},
   "source": [
    "- 다른 사람의 풀이 #2"
   ]
  },
  {
   "cell_type": "code",
   "execution_count": 100,
   "id": "242f082f",
   "metadata": {},
   "outputs": [],
   "source": [
    "def solution(numbers, hand):\n",
    "    l = 10\n",
    "    r = 11\n",
    "    answer = \"\"\n",
    "    p = [[0, 4, 3, 4, 3, 2, 3, 2, 1, 2],\n",
    "         [4, 0, 1, 2, 0, 2, 3, 0, 3, 4],\n",
    "         [3, 1, 0, 1, 2, 1, 2, 3, 2, 3],\n",
    "         [4, 2, 1, 0, 3, 2, 1, 4, 3, 2],\n",
    "         [3, 0, 2, 3, 0, 1, 2, 0, 2, 3],\n",
    "         [2, 2, 1, 2, 1, 0, 1, 2, 1, 2],\n",
    "         [3, 3, 2, 1, 2, 1, 0, 3, 2, 1],\n",
    "         [2, 0, 3, 4, 0, 2, 3, 0, 1, 2],\n",
    "         [1, 3, 2, 3, 2, 1, 2, 1, 0, 1],\n",
    "         [2, 4, 3, 2, 3, 2, 1, 2, 1, 0],\n",
    "         [1, 0, 4, 5, 0, 3, 4, 0, 2, 3],\n",
    "         [1, 5, 4, 0, 4, 3, 0, 3, 2, 0]]\n",
    "    for i in numbers:\n",
    "        if i in [1, 4, 7]:\n",
    "            l = i\n",
    "            answer += \"L\"\n",
    "        elif i in [3, 6, 9]:\n",
    "            r = i\n",
    "            answer += \"R\"\n",
    "        else:\n",
    "            if p[l][i] < p[r][i]:\n",
    "                l = i\n",
    "                answer += \"L\"\n",
    "            elif p[l][i] > p[r][i]:\n",
    "                r = i\n",
    "                answer += \"R\"\n",
    "            elif hand == \"left\":\n",
    "                l = i\n",
    "                answer += \"L\"\n",
    "            else:\n",
    "                r = i\n",
    "                answer += \"R\"\n",
    "    return answer"
   ]
  },
  {
   "cell_type": "code",
   "execution_count": null,
   "id": "004d7c6a",
   "metadata": {},
   "outputs": [],
   "source": []
  }
 ],
 "metadata": {
  "kernelspec": {
   "display_name": "Python 3 (ipykernel)",
   "language": "python",
   "name": "python3"
  },
  "language_info": {
   "codemirror_mode": {
    "name": "ipython",
    "version": 3
   },
   "file_extension": ".py",
   "mimetype": "text/x-python",
   "name": "python",
   "nbconvert_exporter": "python",
   "pygments_lexer": "ipython3",
   "version": "3.8.12"
  }
 },
 "nbformat": 4,
 "nbformat_minor": 5
}
