{
 "cells": [
  {
   "cell_type": "markdown",
   "id": "8a227445",
   "metadata": {},
   "source": [
    "- 나의 풀이"
   ]
  },
  {
   "cell_type": "code",
   "execution_count": 16,
   "id": "4db7af15",
   "metadata": {},
   "outputs": [],
   "source": [
    "def solution(sizes):\n",
    "    big = [] # 가로,세로 길이 중 큰 값 리스트\n",
    "    small = [] # 가로,세로 길이 중 작은 값 리스트\n",
    "    \n",
    "    for w,h in sizes:\n",
    "        if w > h: # 가로,세로 길이를 비교\n",
    "            big.append(w)\n",
    "            small.append(h)\n",
    "        else:\n",
    "            big.append(h)\n",
    "            small.append(w)\n",
    "\n",
    "    return max(big)*max(small)"
   ]
  },
  {
   "cell_type": "code",
   "execution_count": 17,
   "id": "39c8e53d",
   "metadata": {},
   "outputs": [
    {
     "data": {
      "text/plain": [
       "4000"
      ]
     },
     "execution_count": 17,
     "metadata": {},
     "output_type": "execute_result"
    }
   ],
   "source": [
    "solution([[60, 50], [30, 70], [60, 30], [80, 40]]) # 입출력 예 #1"
   ]
  },
  {
   "cell_type": "code",
   "execution_count": 18,
   "id": "e23a9b45",
   "metadata": {},
   "outputs": [
    {
     "data": {
      "text/plain": [
       "120"
      ]
     },
     "execution_count": 18,
     "metadata": {},
     "output_type": "execute_result"
    }
   ],
   "source": [
    "solution([[10, 7], [12, 3], [8, 15], [14, 7], [5, 15]]) # 입출력 예 #2"
   ]
  },
  {
   "cell_type": "code",
   "execution_count": 19,
   "id": "6b1cb5fb",
   "metadata": {},
   "outputs": [
    {
     "data": {
      "text/plain": [
       "133"
      ]
     },
     "execution_count": 19,
     "metadata": {},
     "output_type": "execute_result"
    }
   ],
   "source": [
    "solution([[14, 4], [19, 6], [6, 16], [18, 7], [7, 11]]) # 입출력 예 #3"
   ]
  },
  {
   "cell_type": "markdown",
   "id": "345fa92d",
   "metadata": {},
   "source": [
    "- 다른 사람의 풀이 #1"
   ]
  },
  {
   "cell_type": "code",
   "execution_count": 8,
   "id": "6e623b49",
   "metadata": {},
   "outputs": [],
   "source": [
    "def solution(sizes):\n",
    "    return max(max(x) for x in sizes) * max(min(x) for x in sizes)"
   ]
  },
  {
   "cell_type": "code",
   "execution_count": null,
   "id": "8096538b",
   "metadata": {},
   "outputs": [],
   "source": []
  },
  {
   "cell_type": "markdown",
   "id": "2bf35bba",
   "metadata": {},
   "source": [
    "- 다른 사람의 풀이 #2\n",
    "    - sum(sizes, []) → sum()함수로 for 문을 사용하지 않고 리스트를 이어 붙였다."
   ]
  },
  {
   "cell_type": "code",
   "execution_count": 37,
   "id": "4e0fc514",
   "metadata": {},
   "outputs": [],
   "source": [
    "solution = lambda sizes: max(sum(sizes, [])) * max(min(size) for size in sizes) "
   ]
  },
  {
   "cell_type": "code",
   "execution_count": null,
   "id": "f4976b00",
   "metadata": {},
   "outputs": [],
   "source": []
  },
  {
   "cell_type": "code",
   "execution_count": 38,
   "id": "cccfd2a2",
   "metadata": {},
   "outputs": [
    {
     "data": {
      "text/plain": [
       "[60, 50, 30, 70, 60, 30, 80, 40]"
      ]
     },
     "execution_count": 38,
     "metadata": {},
     "output_type": "execute_result"
    }
   ],
   "source": [
    "# sum() 함수로 2차원 리스트 1차원 리스트로 만들기\n",
    "sizes = [[60, 50], [30, 70], [60, 30], [80, 40]]\n",
    "sum(sizes, [])"
   ]
  },
  {
   "cell_type": "code",
   "execution_count": null,
   "id": "0fae635f",
   "metadata": {},
   "outputs": [],
   "source": []
  }
 ],
 "metadata": {
  "kernelspec": {
   "display_name": "Python 3 (ipykernel)",
   "language": "python",
   "name": "python3"
  },
  "language_info": {
   "codemirror_mode": {
    "name": "ipython",
    "version": 3
   },
   "file_extension": ".py",
   "mimetype": "text/x-python",
   "name": "python",
   "nbconvert_exporter": "python",
   "pygments_lexer": "ipython3",
   "version": "3.8.12"
  }
 },
 "nbformat": 4,
 "nbformat_minor": 5
}
