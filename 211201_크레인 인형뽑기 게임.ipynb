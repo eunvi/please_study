{
 "cells": [
  {
   "cell_type": "markdown",
   "id": "f126d079",
   "metadata": {},
   "source": [
    "- 나의 풀이"
   ]
  },
  {
   "cell_type": "code",
   "execution_count": 257,
   "id": "1fe033d8",
   "metadata": {},
   "outputs": [],
   "source": [
    "def solution(board, moves):\n",
    "    result = []\n",
    "    answer = 0\n",
    "    \n",
    "    for i in moves:\n",
    "        for j in range(len(board)):\n",
    "            if board[j][i-1] != 0:\n",
    "                result.append(board[j][i-1])\n",
    "                board[j][i-1] = 0\n",
    "                break\n",
    "\n",
    "        if len(result)>=2 and result[-1] == result[-2]:\n",
    "            answer += 2\n",
    "            del result[-2:]\n",
    "            \n",
    "    return answer"
   ]
  },
  {
   "cell_type": "code",
   "execution_count": 258,
   "id": "8dfcd17b",
   "metadata": {},
   "outputs": [
    {
     "data": {
      "text/plain": [
       "4"
      ]
     },
     "execution_count": 258,
     "metadata": {},
     "output_type": "execute_result"
    }
   ],
   "source": [
    "solution([[0,0,0,0,0],[0,0,1,0,3],[0,2,5,0,1],[4,2,4,4,2],[3,5,1,3,1]], [1,5,3,5,1,2,1,4]) # 입출력 예 #1"
   ]
  },
  {
   "cell_type": "markdown",
   "id": "53563999",
   "metadata": {},
   "source": [
    "- 다른 사람의 풀이 #1"
   ]
  },
  {
   "cell_type": "code",
   "execution_count": 253,
   "id": "4219d401",
   "metadata": {},
   "outputs": [],
   "source": [
    "def solution(board, moves):\n",
    "    stacklist = []\n",
    "    answer = 0\n",
    "\n",
    "    for i in moves:\n",
    "        for j in range(len(board)):\n",
    "            if board[j][i-1] != 0:\n",
    "                stacklist.append(board[j][i-1])\n",
    "                board[j][i-1] = 0\n",
    "\n",
    "                if len(stacklist) > 1: # if문을 한번 더 써서 stacklist 만들기\n",
    "                    if stacklist[-1] == stacklist[-2]:\n",
    "                        stacklist.pop(-1) # del 대신 pop함수 사용\n",
    "                        stacklist.pop(-1)\n",
    "                        answer += 2     \n",
    "                break\n",
    "\n",
    "    return answer"
   ]
  },
  {
   "cell_type": "markdown",
   "id": "d50835a0",
   "metadata": {},
   "source": [
    "- 다른 사람의 풀이 #2"
   ]
  },
  {
   "cell_type": "code",
   "execution_count": 254,
   "id": "7ea810b1",
   "metadata": {},
   "outputs": [],
   "source": [
    "def solution(board, moves):\n",
    "    cols = list(map(lambda x: list(filter(lambda y: y > 0, x)), zip(*board))) # 리스트 앞에 '*'연산자를 추가하여 unzip 실행\n",
    "    a, s = 0, [0] # a : 터뜨려진 인형의 수, s : bucket 역할\n",
    " \n",
    "    for m in moves:\n",
    "        if len(cols[m - 1]) > 0:\n",
    "            if (d := cols[m - 1].pop(0)) == (l := s.pop()): # := → 변수를 할당할 수 있는 표기법\n",
    "                a += 2\n",
    "            else:\n",
    "                s.extend([l, d])\n",
    "\n",
    "    return a"
   ]
  },
  {
   "cell_type": "code",
   "execution_count": null,
   "id": "9d912ca8",
   "metadata": {},
   "outputs": [],
   "source": []
  }
 ],
 "metadata": {
  "kernelspec": {
   "display_name": "Python 3 (ipykernel)",
   "language": "python",
   "name": "python3"
  },
  "language_info": {
   "codemirror_mode": {
    "name": "ipython",
    "version": 3
   },
   "file_extension": ".py",
   "mimetype": "text/x-python",
   "name": "python",
   "nbconvert_exporter": "python",
   "pygments_lexer": "ipython3",
   "version": "3.8.12"
  }
 },
 "nbformat": 4,
 "nbformat_minor": 5
}
