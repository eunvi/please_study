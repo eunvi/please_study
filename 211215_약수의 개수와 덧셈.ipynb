{
 "cells": [
  {
   "cell_type": "markdown",
   "id": "0ed93486",
   "metadata": {},
   "source": [
    "- 나의 풀이"
   ]
  },
  {
   "cell_type": "code",
   "execution_count": 12,
   "id": "bfdd2440",
   "metadata": {},
   "outputs": [],
   "source": [
    "def solution(left, right):\n",
    "    answer = 0 # +약수가 짝수인 수,-약수가 홀수인 수\n",
    "    for i in list(range(left,right+1)):\n",
    "        cnt = 0 # 약수의 개수를 받을 변수\n",
    "        for j in list(range(1,i+1)):\n",
    "            if i%j == 0:\n",
    "                cnt += 1\n",
    "        if cnt%2 == 0:\n",
    "            answer += i\n",
    "        else:\n",
    "            answer -= i\n",
    "    return answer"
   ]
  },
  {
   "cell_type": "code",
   "execution_count": 16,
   "id": "ee3f6ffe",
   "metadata": {},
   "outputs": [
    {
     "data": {
      "text/plain": [
       "43"
      ]
     },
     "execution_count": 16,
     "metadata": {},
     "output_type": "execute_result"
    }
   ],
   "source": [
    "solution(13,17) # 입출력 예 #1"
   ]
  },
  {
   "cell_type": "code",
   "execution_count": 17,
   "id": "9c3562b7",
   "metadata": {},
   "outputs": [
    {
     "data": {
      "text/plain": [
       "52"
      ]
     },
     "execution_count": 17,
     "metadata": {},
     "output_type": "execute_result"
    }
   ],
   "source": [
    "solution(24,27) # 입출력 예 #2"
   ]
  },
  {
   "cell_type": "code",
   "execution_count": null,
   "id": "9314b3fe",
   "metadata": {},
   "outputs": [],
   "source": []
  },
  {
   "cell_type": "markdown",
   "id": "1b64a7f4",
   "metadata": {},
   "source": [
    "- 다른 사람의 풀이 #1"
   ]
  },
  {
   "cell_type": "code",
   "execution_count": 15,
   "id": "f808bbe0",
   "metadata": {},
   "outputs": [],
   "source": [
    "def solution(left, right): \n",
    "    answer = 0\n",
    "    for i in range(left,right+1):\n",
    "        if int(i**0.5)==i**0.5: # 제곱수의 약수는 홀수개\n",
    "            answer -= i\n",
    "        else:\n",
    "            answer += i\n",
    "    return answer"
   ]
  },
  {
   "cell_type": "code",
   "execution_count": null,
   "id": "20574df3",
   "metadata": {},
   "outputs": [],
   "source": []
  }
 ],
 "metadata": {
  "kernelspec": {
   "display_name": "Python 3 (ipykernel)",
   "language": "python",
   "name": "python3"
  },
  "language_info": {
   "codemirror_mode": {
    "name": "ipython",
    "version": 3
   },
   "file_extension": ".py",
   "mimetype": "text/x-python",
   "name": "python",
   "nbconvert_exporter": "python",
   "pygments_lexer": "ipython3",
   "version": "3.8.12"
  }
 },
 "nbformat": 4,
 "nbformat_minor": 5
}
