{
 "cells": [
  {
   "cell_type": "markdown",
   "id": "a15a593c",
   "metadata": {},
   "source": [
    "- 나의 풀이 (시간초과 실패 50.0 / 100.0)"
   ]
  },
  {
   "cell_type": "code",
   "execution_count": 1,
   "id": "29322c42",
   "metadata": {},
   "outputs": [],
   "source": [
    "def solution(participant, completion):\n",
    "\n",
    "    for i in completion:\n",
    "        if i in participant:\n",
    "            participant.remove(i)\n",
    "            \n",
    "    answer = participant[0]\n",
    "    \n",
    "    return answer"
   ]
  },
  {
   "cell_type": "markdown",
   "id": "230a1267",
   "metadata": {},
   "source": [
    "- 나의 풀이 (시간초과 실패)"
   ]
  },
  {
   "cell_type": "code",
   "execution_count": 2,
   "id": "bf2893fd",
   "metadata": {},
   "outputs": [],
   "source": [
    "def solution(participant, completion):\n",
    "    \n",
    "    for i in range(len(completion)):\n",
    "        participant.remove(completion[i])\n",
    "        \n",
    "    answer = participant[0]\n",
    "    \n",
    "    return answer"
   ]
  },
  {
   "cell_type": "markdown",
   "id": "5f52870f",
   "metadata": {},
   "source": [
    "- 나의 풀이(시간초과 실패)\n",
    "    - remove() 함수 쓰지않고 코드짜기"
   ]
  },
  {
   "cell_type": "code",
   "execution_count": 3,
   "id": "77e45a81",
   "metadata": {},
   "outputs": [],
   "source": [
    "def solution(participant, completion):\n",
    "    \n",
    "    answer = []\n",
    "    all = participant + completion\n",
    "    \n",
    "    for i in set(participant):\n",
    "        a = all.count(i)\n",
    "\n",
    "        if a%2==1:\n",
    "            answer.append(i)\n",
    "            \n",
    "    return answer[0]"
   ]
  },
  {
   "cell_type": "markdown",
   "id": "c9e6cbf6",
   "metadata": {},
   "source": [
    "- 나의 풀이(70.0 / 100.0)\n",
    "    - 정확성: 30.0\n",
    "    - 효율성: 40.0"
   ]
  },
  {
   "cell_type": "code",
   "execution_count": 4,
   "id": "789fa72e",
   "metadata": {},
   "outputs": [],
   "source": [
    "def solution(participant, completion):\n",
    "    \n",
    "    answer = list(set(participant) - set(completion))\n",
    "    \n",
    "    if len(answer)==0:\n",
    "        answer = [i for i in set(participant) if participant.count(i)>1]\n",
    "            \n",
    "    return answer[0]"
   ]
  },
  {
   "cell_type": "markdown",
   "id": "e434dc4f",
   "metadata": {},
   "source": [
    "- 나의 풀이(시간초과 실패 90.0 / 100.0)"
   ]
  },
  {
   "cell_type": "code",
   "execution_count": 5,
   "id": "18569591",
   "metadata": {},
   "outputs": [],
   "source": [
    "def solution(participant, completion):\n",
    "    \n",
    "    answer = list(set(participant) - set(completion))\n",
    "    all = participant + completion\n",
    "    \n",
    "    if len(answer)==0:\n",
    "        answer = [i for i in set(participant) if (all.count(i))%2==1]\n",
    "            \n",
    "    return answer[0]"
   ]
  },
  {
   "cell_type": "markdown",
   "id": "b5d6f821",
   "metadata": {},
   "source": [
    "- 나의 풀이(시간초과 실패 90.0 / 100.0)"
   ]
  },
  {
   "cell_type": "code",
   "execution_count": 6,
   "id": "db1fb5c2",
   "metadata": {},
   "outputs": [],
   "source": [
    "def solution(participant, completion):\n",
    "    \n",
    "    part = set(participant)\n",
    "    comp = set(completion)\n",
    "    \n",
    "    answer = list(part - comp)\n",
    "    \n",
    "    if len(answer)==0:\n",
    "        answer = [i for i in comp if participant.count(i) != completion.count(i)]\n",
    "\n",
    "    return answer[0]"
   ]
  },
  {
   "cell_type": "markdown",
   "id": "dad2b8c8",
   "metadata": {},
   "source": [
    "- 나의 풀이(최종 통과)"
   ]
  },
  {
   "cell_type": "code",
   "execution_count": 34,
   "id": "4a5fdb2f",
   "metadata": {},
   "outputs": [],
   "source": [
    "def solution(participant, completion):\n",
    "    \n",
    "    answer = list(set(participant) - set(completion))\n",
    "    if len(answer) == 0:\n",
    "        while len(answer) == 0:\n",
    "            for i in completion:\n",
    "                if participant.count(i) != completion.count(i):\n",
    "                    answer = [i]\n",
    "                    break\n",
    "            \n",
    "    return answer[0]"
   ]
  },
  {
   "cell_type": "code",
   "execution_count": 35,
   "id": "b95c732e",
   "metadata": {
    "scrolled": false
   },
   "outputs": [
    {
     "data": {
      "text/plain": [
       "'leo'"
      ]
     },
     "execution_count": 35,
     "metadata": {},
     "output_type": "execute_result"
    }
   ],
   "source": [
    "solution([\"leo\", \"kiki\", \"eden\"],[\"eden\", \"kiki\"]) # 입출력 예 #1"
   ]
  },
  {
   "cell_type": "code",
   "execution_count": 36,
   "id": "ef7b8f6b",
   "metadata": {},
   "outputs": [
    {
     "data": {
      "text/plain": [
       "'vinko'"
      ]
     },
     "execution_count": 36,
     "metadata": {},
     "output_type": "execute_result"
    }
   ],
   "source": [
    "solution([\"marina\", \"josipa\", \"nikola\", \"vinko\", \"filipa\"],[\"josipa\", \"filipa\", \"marina\", \"nikola\"]) # 입출력 예 #2"
   ]
  },
  {
   "cell_type": "code",
   "execution_count": 37,
   "id": "5d6829bb",
   "metadata": {},
   "outputs": [
    {
     "data": {
      "text/plain": [
       "'mislav'"
      ]
     },
     "execution_count": 37,
     "metadata": {},
     "output_type": "execute_result"
    }
   ],
   "source": [
    "solution([\"mislav\", \"stanko\", \"mislav\", \"ana\"],[\"stanko\", \"ana\", \"mislav\"]) # 입출력 예 #3"
   ]
  },
  {
   "cell_type": "markdown",
   "id": "1b15f965",
   "metadata": {},
   "source": [
    "- 다른 사람의 풀이 #1"
   ]
  },
  {
   "cell_type": "code",
   "execution_count": 11,
   "id": "2d698ea0",
   "metadata": {},
   "outputs": [],
   "source": [
    "import collections # collections 모듈 활용\n",
    "\n",
    "\n",
    "def solution(participant, completion):\n",
    "    answer = collections.Counter(participant) - collections.Counter(completion) # collections.Counter → 빈도를 딕셔너리로 표현\n",
    "    return list(answer.keys())[0]"
   ]
  },
  {
   "cell_type": "markdown",
   "id": "12e8f45e",
   "metadata": {},
   "source": [
    "- 다른 사람의 풀이 #2"
   ]
  },
  {
   "cell_type": "code",
   "execution_count": 27,
   "id": "d93b8944",
   "metadata": {},
   "outputs": [],
   "source": [
    "def solution(participant, completion):\n",
    "    answer = ''\n",
    "    temp = 0\n",
    "    dic = {}\n",
    "    for part in participant:\n",
    "        dic[hash(part)] = part # 딕셔너리 key : 해시값, value : 선수\n",
    "        temp += int(hash(part))\n",
    "    for com in completion:\n",
    "        temp -= hash(com)\n",
    "    answer = dic[temp] # 미완주자의 해시값만 남는다.\n",
    "\n",
    "    return answer"
   ]
  },
  {
   "cell_type": "markdown",
   "id": "ff80b353",
   "metadata": {},
   "source": [
    "- 다른 사람의 풀이 #3"
   ]
  },
  {
   "cell_type": "code",
   "execution_count": 13,
   "id": "7d7d0f35",
   "metadata": {},
   "outputs": [],
   "source": [
    "def solution(participant, completion):\n",
    "    participant.sort()\n",
    "    completion.sort()\n",
    "    for i in range(len(completion)):\n",
    "        if participant[i] != completion[i]:\n",
    "            return participant[i]\n",
    "    return participant[len(participant)-1]"
   ]
  },
  {
   "cell_type": "code",
   "execution_count": null,
   "id": "6471e422",
   "metadata": {},
   "outputs": [],
   "source": []
  }
 ],
 "metadata": {
  "kernelspec": {
   "display_name": "Python 3 (ipykernel)",
   "language": "python",
   "name": "python3"
  },
  "language_info": {
   "codemirror_mode": {
    "name": "ipython",
    "version": 3
   },
   "file_extension": ".py",
   "mimetype": "text/x-python",
   "name": "python",
   "nbconvert_exporter": "python",
   "pygments_lexer": "ipython3",
   "version": "3.8.12"
  }
 },
 "nbformat": 4,
 "nbformat_minor": 5
}
