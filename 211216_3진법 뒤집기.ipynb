{
 "cells": [
  {
   "cell_type": "markdown",
   "id": "0d9d9c27",
   "metadata": {},
   "source": [
    "- 나의 풀이(시간 초과 30.0 / 100.0)"
   ]
  },
  {
   "cell_type": "code",
   "execution_count": 9,
   "id": "01b6d863",
   "metadata": {},
   "outputs": [],
   "source": [
    "def solution(n):\n",
    "    n_copy = n\n",
    "    num = 1\n",
    "    \n",
    "    while n_copy//3 !=1:\n",
    "        n_copy = n_copy/3\n",
    "        num += 1\n",
    "        \n",
    "    n3 = []\n",
    "    \n",
    "    for i in range(num,-1,-1):\n",
    "        if n >= 2*(3**(i)):\n",
    "            n3.append(2)\n",
    "            n -= 2*(3**(i))\n",
    "        elif n >= 3**(i):\n",
    "            n3.append(1)\n",
    "            n -= 3**(i)\n",
    "        else:\n",
    "            n3.append(0)\n",
    "            \n",
    "    answer = 0\n",
    "    \n",
    "    for i in range(len(n3)):\n",
    "        answer += (n3[i])*(3**(i))\n",
    "        \n",
    "    return answer"
   ]
  },
  {
   "cell_type": "markdown",
   "id": "dd1c7b7f",
   "metadata": {},
   "source": [
    "- 나의 풀이(최종 통과)"
   ]
  },
  {
   "cell_type": "code",
   "execution_count": 61,
   "id": "6306e026",
   "metadata": {},
   "outputs": [],
   "source": [
    "def solution(n):\n",
    "    num = 0\n",
    "    n3 = [] # 3진법 리스트\n",
    "    \n",
    "    for i in range(1,18):\n",
    "        if n >= 3**i:\n",
    "            num += 1\n",
    "        else:\n",
    "            break\n",
    "    \n",
    "    for i in range(num,-1,-1):\n",
    "        if n >= 2*(3**(i)):\n",
    "            n3.append(2)\n",
    "            n -= 2*(3**(i))\n",
    "        elif n >= 3**(i):\n",
    "            n3.append(1)\n",
    "            n -= 3**(i)\n",
    "        else:\n",
    "            n3.append(0)\n",
    "            \n",
    "    answer = 0\n",
    "    \n",
    "    for i in range(len(n3)):\n",
    "        answer += (n3[i])*(3**(i))\n",
    "        \n",
    "    return answer"
   ]
  },
  {
   "cell_type": "code",
   "execution_count": 71,
   "id": "1162f6f4",
   "metadata": {},
   "outputs": [
    {
     "data": {
      "text/plain": [
       "7"
      ]
     },
     "execution_count": 71,
     "metadata": {},
     "output_type": "execute_result"
    }
   ],
   "source": [
    "solution(45) # 입출력 예 #1"
   ]
  },
  {
   "cell_type": "code",
   "execution_count": 72,
   "id": "f0ba341d",
   "metadata": {},
   "outputs": [
    {
     "data": {
      "text/plain": [
       "229"
      ]
     },
     "execution_count": 72,
     "metadata": {},
     "output_type": "execute_result"
    }
   ],
   "source": [
    "solution(125) # 입출력 예 #2"
   ]
  },
  {
   "cell_type": "code",
   "execution_count": null,
   "id": "9446c135",
   "metadata": {},
   "outputs": [],
   "source": []
  },
  {
   "cell_type": "markdown",
   "id": "4cc18906",
   "metadata": {},
   "source": [
    "- 다른 사람의 풀이 #1"
   ]
  },
  {
   "cell_type": "code",
   "execution_count": 64,
   "id": "45a13968",
   "metadata": {},
   "outputs": [],
   "source": [
    "def solution(n):\n",
    "    tmp = ''\n",
    "    while n:\n",
    "        tmp += str(n % 3) # 나눗셈의 나머지 활용\n",
    "        n = n // 3\n",
    "\n",
    "    answer = int(tmp, 3) # 문자열을 3진법을 10진수로 표현 → int() 함수\n",
    "    return answer"
   ]
  },
  {
   "cell_type": "markdown",
   "id": "40c2621b",
   "metadata": {},
   "source": [
    "- 다른 사람의 풀이 #2"
   ]
  },
  {
   "cell_type": "code",
   "execution_count": 70,
   "id": "81ac9cc0",
   "metadata": {},
   "outputs": [],
   "source": [
    "def solution(n):\n",
    "    answer = 0\n",
    "    cnt = 1\n",
    "    a = ''\n",
    "    while n>0:\n",
    "        a+=str(n%3)\n",
    "        n = n//3\n",
    "    for b in range(len(a),0,-1):\n",
    "        answer += (int(a[b-1])*cnt)\n",
    "        cnt *= 3\n",
    "    return answer"
   ]
  },
  {
   "cell_type": "code",
   "execution_count": null,
   "id": "66f2bc76",
   "metadata": {},
   "outputs": [],
   "source": []
  }
 ],
 "metadata": {
  "kernelspec": {
   "display_name": "Python 3 (ipykernel)",
   "language": "python",
   "name": "python3"
  },
  "language_info": {
   "codemirror_mode": {
    "name": "ipython",
    "version": 3
   },
   "file_extension": ".py",
   "mimetype": "text/x-python",
   "name": "python",
   "nbconvert_exporter": "python",
   "pygments_lexer": "ipython3",
   "version": "3.8.12"
  }
 },
 "nbformat": 4,
 "nbformat_minor": 5
}
